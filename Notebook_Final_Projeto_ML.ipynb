{
 "cells": [
  {
   "cell_type": "markdown",
   "id": "a6b3f79f",
   "metadata": {},
   "source": [
    "# **Trabalho Prático 2 (IACD) - 2024/2025**\n",
    "### \"Projeto: Sistema de Intervenção Estudantil\"\n",
    "\n",
    "Visita a nossa app: [STREAMLIT](https://amarcos20.streamlit.app) ou no nosso repositorio [GITHUB](https://github.com/amarcos20/app_streamlit).\n",
    "\n",
    "Trabalho realizado por: **Afonso Marcos** (202404088), **Afonso Silva** (202406661), **Pedro Afonso** (202404125)\n",
    "\n",
    "---\n",
    "---"
   ]
  },
  {
   "cell_type": "markdown",
   "id": "d409d26d",
   "metadata": {},
   "source": [
    "# **Índice**\n",
    "#### 1. **Introdução**\n",
    "#### 2. **Bibliotecas utilizadas**\n",
    "#### 3. **Formulação do problema**\n",
    "- 3.1. Objetivo\n",
    "- 3.2. Justificação\n",
    "- 3.3. Dataset\n",
    "#### 4. **Exploração de dados**\n",
    "- 4.1. Notas\n",
    "- 4.2. Observações Gerais\n",
    "- 4.3. Identificação de Features Discriminatórias\n",
    "    - 4.3.1. Hipótese 1 - Consumo de Álcool\n",
    "    - 4.3.2. Hipótese 2 - Relacionamento Amoroso\n",
    "    - 4.3.3. Hipótese 3 - Apoio Escolar \n",
    "#### 5. **Data Cleaning and Pre-processing**\n",
    "- 5.1. Identificação de Constantes\n",
    "- 5.2. Preparação da variável alvo\n",
    "- 5.3. Seleção das features (X)\n",
    "- 5.4. Identificação automática de tipos de colunas para processamento em X\n",
    "- 5.5. Divisão dos dados em conjunto de treino e teste\n",
    "- 5.6. Configuração do ColumnTransformer\n",
    "- 5.7. Aplicação das Transformações\n",
    "- 5.8. Reconstrução dos DataFrames Processados\n",
    "- 5.9. Armazenamento dos Dados Processados\n",
    "#### 6. **Data Modeling (Supervised Learning)**\n",
    "- 6.1. Definição de Constantes e Carregamento dos Dados Processados\n",
    "- 6.2. Preparação dos Conjuntos de Treino e Teste (X,y)\n",
    "- 6.3. Definação da Função de Avaliação e Baseline\n",
    "- 6.4. Experimentação Inicial com Diferentes Algoritmos (Validação Cruzada no Treino)\n",
    "- 6.5. Seleção dos Modelos Mais Promissores e Treino/ Avaliação Conjunto de Teste\n",
    "- 6.6. Otimização de Hiperparâmetros (GridSearchCV) Para os Melhores Modelos\n",
    "- 6.7. Comparação Final dos Modelos e Interpretação\n",
    "    - 6.7.1. Interpretação dos resultados\n",
    "    - 6.7.2. Guardar o Melhor Modelo e outros\n",
    "#### 7. **Sugestões de Próximos Passos e Potenciais Melhorias**\n",
    "---\n",
    "---"
   ]
  },
  {
   "cell_type": "markdown",
   "id": "8c3b9913",
   "metadata": {},
   "source": [
    "# 1. **Introdução**\n",
    "\n",
    "[[Voltar ao índice]](#índice)\n",
    "\n",
    "A utilização de técnicas de _Machine Learning_ tem sido cada vez maior, ganhando bastante relevância como ferramenta de apoio em diversas áreas, podendo dar apoio, por exemplo, dentro do ramo da educação, na gestão pedagógica e na promoção do sucesso escolar. A capacidade de prever o desempenho dos estudantes, através de dados históricos e demográficos, permite não só antecipar dificuldades, mas também implementar medidas de intervenção mais eficazes.\n",
    "\n",
    "Neste projeto, propõe-se a abordagem de um caso real desta ciência, incluindo a análise exploratória, limpeza e transformação dos dados, avaliação dos modelos de previsão, inspeção visual e comunicação dos resultados, com base no _dataset_ 'student-data.csv', que contém informações sobre alunos do ensino secundário em Portugal. Desta forma, foi construída uma pipeline de _Machine Learning_, capaz de prever se um aluno irá, ou não, reprovar no exame final, de acordo com características, como faltas, ambiente familiar, hábitos de estudo, entre outros.\n",
    "\n",
    "---\n",
    "---"
   ]
  },
  {
   "cell_type": "markdown",
   "id": "878d3a99",
   "metadata": {},
   "source": [
    "# 2. **Bibliotecas importadas para a realização do trabalho**\n",
    "[[Voltar ao índice]](#índice)"
   ]
  },
  {
   "cell_type": "code",
   "execution_count": 48,
   "id": "43e65105",
   "metadata": {},
   "outputs": [],
   "source": [
    "import matplotlib.pyplot as plt\n",
    "import numpy as np \n",
    "import pandas as pd\n",
    "import seaborn as sns\n",
    "import sklearn as sk\n",
    "from sklearn.model_selection import train_test_split\n",
    "import os \n",
    "from sklearn.model_selection import train_test_split \n",
    "from sklearn.preprocessing import StandardScaler, MinMaxScaler \n",
    "from sklearn.preprocessing import OneHotEncoder, LabelEncoder  \n",
    "from sklearn.compose import ColumnTransformer \n",
    "from sklearn.impute import SimpleImputer \n",
    "# Modelos de Classificação para a terceira tarefa\n",
    "from sklearn.linear_model import LogisticRegression\n",
    "from sklearn.neighbors import KNeighborsClassifier\n",
    "from sklearn.svm import SVC\n",
    "from sklearn.tree import DecisionTreeClassifier\n",
    "from sklearn.ensemble import RandomForestClassifier, GradientBoostingClassifier, AdaBoostClassifier\n",
    "from sklearn.metrics import accuracy_score, precision_score, recall_score, f1_score, roc_auc_score, confusion_matrix, classification_report, ConfusionMatrixDisplay\n",
    "from sklearn.model_selection import StratifiedKFold\n",
    "from sklearn.model_selection import cross_val_score"
   ]
  },
  {
   "cell_type": "markdown",
   "id": "94c931db",
   "metadata": {},
   "source": [
    "Para o devido funcionamento e visualização deste projeto, é recomendado utilizar o Anaconda Python Distribution, pois permite acessar a várias biliotecas Python utilizadas neste sistema.  \n",
    "  \n",
    "As principais bibliotecas utilizadas são:\n",
    "- **Numpy**: permite realizar uma grande variedade de operações matemáticas em arrays e matrizes.\n",
    "- **Pandas**: facilita a análise, manipulação e estruturação eficientes dos dados.\n",
    "- **Scikit-learn**: disponibiliza ferramentas simples e eficazes para a previsão de resultados com base em dados.\n",
    "- **Matplotlib**: utilizado para criar gráficos e visualizar os dados de forma detalhada.\n",
    "- **Seaborn**: fornece uma interface de alto nível, permitindo criar visualizações estatísticas complexas de forma simples, complementando o Matplotlib.\n",
    "\n",
    "\n",
    "---\n",
    "---"
   ]
  },
  {
   "cell_type": "markdown",
   "id": "57323ac2",
   "metadata": {},
   "source": [
    "# 3. **Formulação do Problema**\n",
    "\n",
    "[[Voltar ao índice]](#índice)\n",
    "\n",
    "Este trabalho tem como objetivo principal desenvolver um sistema de intervenção estudantil, capaz de prever se um aluno irá ou não passar no exame final, com base no _dataset_ do 'student-data.csv' fornecido. Nesse sentido, foi feita incialmente uma análise exploratória dos dados do _dataset_ em questão e, de seguida, foram aplicados em modelos de _Supervised Learning_ para a classificação dos dados e respetiva avaliaçãode performance. Quanto aos dados fornecidos, podem ser divididos nas seguintes categorias:\n",
    "\n",
    "- **_Categóricos_**:  \n",
    "  **school**(`GP` ou `MS`),  \n",
    "  **sex**(`F` ou `M`),  \n",
    "  **adress**(`U` ou `R`),  \n",
    "  **famsize**(`LE3` ou `GT3`);  \n",
    "  **Pstatus**(`T` ou `A`),  \n",
    "  **Mjob**(`teacher`, `health`, `services`, `at_home` ou `other`),  \n",
    "  **Fjob**(`teacher`, `health`, `services`, `at_home` ou `other`),  \n",
    "  **reason**(`home`, `reputation`, `course` ou `other`),  \n",
    "  **guardian**(`mother`, `father` ou `other`).  \n",
    "\n",
    "- **_Numéricos_**:  \n",
    "  **age**, **Medu**, **Fedu**, **traveltime**, **studytime**, **failures**,  \n",
    "  **famrel**, **freetime**, **goout**, **Dalc**, **Walc**, **health**, **absences**.\n",
    "\n",
    "- **_Booleanos_**:   \n",
    "  **schoolsup**, **famsup**, **paid**, **activities**, **nursery**,  \n",
    "  **higher**, **internet**, **romantic**, **passed**.\n",
    "\n",
    "\n",
    "###### Os dados apresentados como 'Booleanos' são na verdade expressos como 'yes' ou 'no' invés de 'True' ou 'False'. Além disso, todas as categorias podem conter valores omissos que deverão ser tratados no pré-processamento.\n",
    "###### Por fim, visto que estamos a realizar uma 'classificação', podemos comprovar o quão precisos foram os resultados de modo a avaliar a eficácia dos métodos usados.\n",
    "\n",
    "Através da criação de um _pipeline_ completo de _Machine Learning_, pretende-se automatizar a identificação das principais _features_ que podem causar a reprovação de um aluno, permitindo adotar medidas pedagógicas que mudem este panorama.\n",
    "\n",
    "---\n",
    "## 3.1. **Objetivo**\n",
    "O principal objetivo é criar um classificador binário que, mediante dados sobre o perfil do aluno, **preveja a variável _passed_**, que assume os valores:\n",
    "- _'yes'_: o aluno passou no exame final;\n",
    "- _'no'_: o aluno reprovou no exame final.\n",
    "\n",
    "\n",
    "\n",
    "Paralelamente à construção do modelo de previsão, o trabalho tem também como finalidade a **identificação de padrões e condições problemáticas associadas à reprovação**. Através de uma análise exploratória dos dados, pretende-se reconhecer **fatores de risco** que possam servir de base para intervenções pedagógicas e estratégias de apoio ao sucesso educativo.\n",
    "\n",
    "Este duplo objetivo: **prever a situação final** e **compreender os fatores subjacentes ao insucesso escolar**; contribui para uma abordagem mais completa e orientada à **tomada de decisão informada** por parte de instituições de ensino e agentes educativos.\n",
    "\n",
    "\n",
    "\n",
    "---\n",
    "## 3.2. **Justificação**\n",
    "A possibilidade de antever o sucesso, ou não, de um aluno, tendo em conta um conjunto de dados anteriormente recolhido, pode ser bastante benéfica. Desta forma, esta prevsão permite que o plano de ensino, a disponibilização de recursos, o apoio individualizado e a redução do abandono escolar sejam diretamente impactadas, através desta análise prévia informada. Ainda, este sistema pode ser implementado em plataformas escolares que, ao detetar sinais de possível reprovação, emitem alertas prévios, permitindo apoiar decisões pedagócias mais eficazes e direcionadas.\n",
    "\n",
    "---\n",
    "## 3.3. **Dataset**\n",
    "O _dataset_ usado contém dados de 395 estudantes, incluindo:\n",
    "- Atributos pessoais (ex.: idade, género, situação romântica);\n",
    "- Contexto familiar (ex.: educação dos pais, apoio familiar);\n",
    "- Comportamento social e tempo de estudo;\n",
    "- Presenças, consumo de álcool, e resultados académicos.\n",
    "\n",
    "---\n",
    "---"
   ]
  },
  {
   "cell_type": "markdown",
   "id": "4e54e13c",
   "metadata": {},
   "source": [
    "# 4. **Exploração dos dados**\n",
    "\n",
    "[[Voltar ao índice]](#índice)\n",
    "\n",
    "Esta etapa destina-se à análise dos dados do `dataset`. O seu principal objetivo passa por várias etapas: identificação de erros, da relevância dos dados recolhidos, sujeitos, inicialmente, a identificação e, posteriormente a retificações ou eliminações. Quantos às informações recolhidas\n",
    "\n",
    "---\n",
    "### 4.1. **Notas**\n",
    "\n",
    "Para o devido funcionamento, o ficheiro csv deve estar no mesmo diretório que este documento Jupyter.  \n",
    "Após a criação do dataframe _'data'_, é possível analisar e retirar as informações do dataset (através do comando _data.info()_). Nessas informações, está incluído: número, nome e tipo (_int_,_object_, entre outras) das _features_; dimensões e espaço usado no dataframe."
   ]
  },
  {
   "cell_type": "code",
   "execution_count": 49,
   "id": "4b1427ec",
   "metadata": {},
   "outputs": [],
   "source": [
    "# Leitura do ficheiro\n",
    "data = pd.read_csv('student-data.csv')"
   ]
  },
  {
   "cell_type": "markdown",
   "id": "3fdc1418",
   "metadata": {},
   "source": [
    "---"
   ]
  },
  {
   "cell_type": "markdown",
   "id": "ccc4adc6",
   "metadata": {},
   "source": [
    "### 4.2. **Observações Gerais**"
   ]
  },
  {
   "cell_type": "code",
   "execution_count": 50,
   "id": "9c39c227",
   "metadata": {},
   "outputs": [
    {
     "data": {
      "text/plain": [
       "(395, 31)"
      ]
     },
     "execution_count": 50,
     "metadata": {},
     "output_type": "execute_result"
    }
   ],
   "source": [
    "data.shape"
   ]
  },
  {
   "cell_type": "markdown",
   "id": "08326f26",
   "metadata": {},
   "source": [
    "Com o comando \"shape\", é possível verificar que, no total, existem 395 alunos e 31 _features_ sobre cada um."
   ]
  },
  {
   "cell_type": "code",
   "execution_count": 51,
   "id": "5a7c7fed",
   "metadata": {},
   "outputs": [
    {
     "name": "stdout",
     "output_type": "stream",
     "text": [
      "16.7\n"
     ]
    }
   ],
   "source": [
    "idade_media = round(data[\"age\"].mean(),1)\n",
    "print(idade_media)"
   ]
  },
  {
   "cell_type": "markdown",
   "id": "00fcdeff",
   "metadata": {},
   "source": [
    "Média de idade dos alunos."
   ]
  },
  {
   "cell_type": "code",
   "execution_count": 52,
   "id": "6f0d04ac",
   "metadata": {},
   "outputs": [
    {
     "name": "stdout",
     "output_type": "stream",
     "text": [
      "['school', 'sex', 'age', 'address', 'famsize', 'Pstatus', 'Medu', 'Fedu', 'Mjob', 'Fjob', 'reason', 'guardian', 'traveltime', 'studytime', 'failures', 'schoolsup', 'famsup', 'paid', 'activities', 'nursery', 'higher', 'internet', 'romantic', 'famrel', 'freetime', 'goout', 'Dalc', 'Walc', 'health', 'absences', 'passed']\n"
     ]
    }
   ],
   "source": [
    "features = []\n",
    "for feature in data:\n",
    "    features.append(feature)\n",
    "print(features)"
   ]
  },
  {
   "cell_type": "markdown",
   "id": "3f725e00",
   "metadata": {},
   "source": [
    "Lista com todas as _features_ do _dataset_."
   ]
  },
  {
   "cell_type": "code",
   "execution_count": 53,
   "id": "6234bfd1",
   "metadata": {},
   "outputs": [
    {
     "name": "stdout",
     "output_type": "stream",
     "text": [
      "<class 'pandas.core.frame.DataFrame'>\n",
      "RangeIndex: 395 entries, 0 to 394\n",
      "Data columns (total 31 columns):\n",
      " #   Column      Non-Null Count  Dtype \n",
      "---  ------      --------------  ----- \n",
      " 0   school      395 non-null    object\n",
      " 1   sex         395 non-null    object\n",
      " 2   age         395 non-null    int64 \n",
      " 3   address     395 non-null    object\n",
      " 4   famsize     395 non-null    object\n",
      " 5   Pstatus     395 non-null    object\n",
      " 6   Medu        395 non-null    int64 \n",
      " 7   Fedu        395 non-null    int64 \n",
      " 8   Mjob        395 non-null    object\n",
      " 9   Fjob        395 non-null    object\n",
      " 10  reason      395 non-null    object\n",
      " 11  guardian    395 non-null    object\n",
      " 12  traveltime  395 non-null    int64 \n",
      " 13  studytime   395 non-null    int64 \n",
      " 14  failures    395 non-null    int64 \n",
      " 15  schoolsup   395 non-null    object\n",
      " 16  famsup      395 non-null    object\n",
      " 17  paid        395 non-null    object\n",
      " 18  activities  395 non-null    object\n",
      " 19  nursery     395 non-null    object\n",
      " 20  higher      395 non-null    object\n",
      " 21  internet    395 non-null    object\n",
      " 22  romantic    395 non-null    object\n",
      " 23  famrel      395 non-null    int64 \n",
      " 24  freetime    395 non-null    int64 \n",
      " 25  goout       395 non-null    int64 \n",
      " 26  Dalc        395 non-null    int64 \n",
      " 27  Walc        395 non-null    int64 \n",
      " 28  health      395 non-null    int64 \n",
      " 29  absences    395 non-null    int64 \n",
      " 30  passed      395 non-null    object\n",
      "dtypes: int64(13), object(18)\n",
      "memory usage: 95.8+ KB\n"
     ]
    }
   ],
   "source": [
    "data.info()"
   ]
  },
  {
   "cell_type": "markdown",
   "id": "3b75dea1",
   "metadata": {},
   "source": [
    "Resumo conciso e informativo sobre a estrutura do _DataFrame_. Esta função é essencial para uma compreensão inicial dos dados, permitindo identificar rapidamente características estruturais importantes, como, por exemplo, a presença de valores em falta, os tipos de dados associados a cada variável e a cardinalidade das features."
   ]
  },
  {
   "cell_type": "code",
   "execution_count": 54,
   "id": "f0f35504",
   "metadata": {},
   "outputs": [
    {
     "data": {
      "application/vnd.microsoft.datawrangler.viewer.v0+json": {
       "columns": [
        {
         "name": "index",
         "rawType": "int64",
         "type": "integer"
        },
        {
         "name": "school",
         "rawType": "object",
         "type": "string"
        },
        {
         "name": "sex",
         "rawType": "object",
         "type": "string"
        },
        {
         "name": "age",
         "rawType": "int64",
         "type": "integer"
        },
        {
         "name": "address",
         "rawType": "object",
         "type": "string"
        },
        {
         "name": "famsize",
         "rawType": "object",
         "type": "string"
        },
        {
         "name": "Pstatus",
         "rawType": "object",
         "type": "string"
        },
        {
         "name": "Medu",
         "rawType": "int64",
         "type": "integer"
        },
        {
         "name": "Fedu",
         "rawType": "int64",
         "type": "integer"
        },
        {
         "name": "Mjob",
         "rawType": "object",
         "type": "string"
        },
        {
         "name": "Fjob",
         "rawType": "object",
         "type": "string"
        },
        {
         "name": "reason",
         "rawType": "object",
         "type": "string"
        },
        {
         "name": "guardian",
         "rawType": "object",
         "type": "string"
        },
        {
         "name": "traveltime",
         "rawType": "int64",
         "type": "integer"
        },
        {
         "name": "studytime",
         "rawType": "int64",
         "type": "integer"
        },
        {
         "name": "failures",
         "rawType": "int64",
         "type": "integer"
        },
        {
         "name": "schoolsup",
         "rawType": "object",
         "type": "string"
        },
        {
         "name": "famsup",
         "rawType": "object",
         "type": "string"
        },
        {
         "name": "paid",
         "rawType": "object",
         "type": "string"
        },
        {
         "name": "activities",
         "rawType": "object",
         "type": "string"
        },
        {
         "name": "nursery",
         "rawType": "object",
         "type": "string"
        },
        {
         "name": "higher",
         "rawType": "object",
         "type": "string"
        },
        {
         "name": "internet",
         "rawType": "object",
         "type": "string"
        },
        {
         "name": "romantic",
         "rawType": "object",
         "type": "string"
        },
        {
         "name": "famrel",
         "rawType": "int64",
         "type": "integer"
        },
        {
         "name": "freetime",
         "rawType": "int64",
         "type": "integer"
        },
        {
         "name": "goout",
         "rawType": "int64",
         "type": "integer"
        },
        {
         "name": "Dalc",
         "rawType": "int64",
         "type": "integer"
        },
        {
         "name": "Walc",
         "rawType": "int64",
         "type": "integer"
        },
        {
         "name": "health",
         "rawType": "int64",
         "type": "integer"
        },
        {
         "name": "absences",
         "rawType": "int64",
         "type": "integer"
        },
        {
         "name": "passed",
         "rawType": "object",
         "type": "string"
        }
       ],
       "ref": "421928c8-ee3b-40a5-b3ae-9113041a1384",
       "rows": [
        [
         "0",
         "GP",
         "F",
         "18",
         "U",
         "GT3",
         "A",
         "4",
         "4",
         "at_home",
         "teacher",
         "course",
         "mother",
         "2",
         "2",
         "0",
         "yes",
         "no",
         "no",
         "no",
         "yes",
         "yes",
         "no",
         "no",
         "4",
         "3",
         "4",
         "1",
         "1",
         "3",
         "6",
         "no"
        ],
        [
         "1",
         "GP",
         "F",
         "17",
         "U",
         "GT3",
         "T",
         "1",
         "1",
         "at_home",
         "other",
         "course",
         "father",
         "1",
         "2",
         "0",
         "no",
         "yes",
         "no",
         "no",
         "no",
         "yes",
         "yes",
         "no",
         "5",
         "3",
         "3",
         "1",
         "1",
         "3",
         "4",
         "no"
        ],
        [
         "2",
         "GP",
         "F",
         "15",
         "U",
         "LE3",
         "T",
         "1",
         "1",
         "at_home",
         "other",
         "other",
         "mother",
         "1",
         "2",
         "3",
         "yes",
         "no",
         "yes",
         "no",
         "yes",
         "yes",
         "yes",
         "no",
         "4",
         "3",
         "2",
         "2",
         "3",
         "3",
         "10",
         "yes"
        ],
        [
         "3",
         "GP",
         "F",
         "15",
         "U",
         "GT3",
         "T",
         "4",
         "2",
         "health",
         "services",
         "home",
         "mother",
         "1",
         "3",
         "0",
         "no",
         "yes",
         "yes",
         "yes",
         "yes",
         "yes",
         "yes",
         "yes",
         "3",
         "2",
         "2",
         "1",
         "1",
         "5",
         "2",
         "yes"
        ],
        [
         "4",
         "GP",
         "F",
         "16",
         "U",
         "GT3",
         "T",
         "3",
         "3",
         "other",
         "other",
         "home",
         "father",
         "1",
         "2",
         "0",
         "no",
         "yes",
         "yes",
         "no",
         "yes",
         "yes",
         "no",
         "no",
         "4",
         "3",
         "2",
         "1",
         "2",
         "5",
         "4",
         "yes"
        ]
       ],
       "shape": {
        "columns": 31,
        "rows": 5
       }
      },
      "text/html": [
       "<div>\n",
       "<style scoped>\n",
       "    .dataframe tbody tr th:only-of-type {\n",
       "        vertical-align: middle;\n",
       "    }\n",
       "\n",
       "    .dataframe tbody tr th {\n",
       "        vertical-align: top;\n",
       "    }\n",
       "\n",
       "    .dataframe thead th {\n",
       "        text-align: right;\n",
       "    }\n",
       "</style>\n",
       "<table border=\"1\" class=\"dataframe\">\n",
       "  <thead>\n",
       "    <tr style=\"text-align: right;\">\n",
       "      <th></th>\n",
       "      <th>school</th>\n",
       "      <th>sex</th>\n",
       "      <th>age</th>\n",
       "      <th>address</th>\n",
       "      <th>famsize</th>\n",
       "      <th>Pstatus</th>\n",
       "      <th>Medu</th>\n",
       "      <th>Fedu</th>\n",
       "      <th>Mjob</th>\n",
       "      <th>Fjob</th>\n",
       "      <th>...</th>\n",
       "      <th>internet</th>\n",
       "      <th>romantic</th>\n",
       "      <th>famrel</th>\n",
       "      <th>freetime</th>\n",
       "      <th>goout</th>\n",
       "      <th>Dalc</th>\n",
       "      <th>Walc</th>\n",
       "      <th>health</th>\n",
       "      <th>absences</th>\n",
       "      <th>passed</th>\n",
       "    </tr>\n",
       "  </thead>\n",
       "  <tbody>\n",
       "    <tr>\n",
       "      <th>0</th>\n",
       "      <td>GP</td>\n",
       "      <td>F</td>\n",
       "      <td>18</td>\n",
       "      <td>U</td>\n",
       "      <td>GT3</td>\n",
       "      <td>A</td>\n",
       "      <td>4</td>\n",
       "      <td>4</td>\n",
       "      <td>at_home</td>\n",
       "      <td>teacher</td>\n",
       "      <td>...</td>\n",
       "      <td>no</td>\n",
       "      <td>no</td>\n",
       "      <td>4</td>\n",
       "      <td>3</td>\n",
       "      <td>4</td>\n",
       "      <td>1</td>\n",
       "      <td>1</td>\n",
       "      <td>3</td>\n",
       "      <td>6</td>\n",
       "      <td>no</td>\n",
       "    </tr>\n",
       "    <tr>\n",
       "      <th>1</th>\n",
       "      <td>GP</td>\n",
       "      <td>F</td>\n",
       "      <td>17</td>\n",
       "      <td>U</td>\n",
       "      <td>GT3</td>\n",
       "      <td>T</td>\n",
       "      <td>1</td>\n",
       "      <td>1</td>\n",
       "      <td>at_home</td>\n",
       "      <td>other</td>\n",
       "      <td>...</td>\n",
       "      <td>yes</td>\n",
       "      <td>no</td>\n",
       "      <td>5</td>\n",
       "      <td>3</td>\n",
       "      <td>3</td>\n",
       "      <td>1</td>\n",
       "      <td>1</td>\n",
       "      <td>3</td>\n",
       "      <td>4</td>\n",
       "      <td>no</td>\n",
       "    </tr>\n",
       "    <tr>\n",
       "      <th>2</th>\n",
       "      <td>GP</td>\n",
       "      <td>F</td>\n",
       "      <td>15</td>\n",
       "      <td>U</td>\n",
       "      <td>LE3</td>\n",
       "      <td>T</td>\n",
       "      <td>1</td>\n",
       "      <td>1</td>\n",
       "      <td>at_home</td>\n",
       "      <td>other</td>\n",
       "      <td>...</td>\n",
       "      <td>yes</td>\n",
       "      <td>no</td>\n",
       "      <td>4</td>\n",
       "      <td>3</td>\n",
       "      <td>2</td>\n",
       "      <td>2</td>\n",
       "      <td>3</td>\n",
       "      <td>3</td>\n",
       "      <td>10</td>\n",
       "      <td>yes</td>\n",
       "    </tr>\n",
       "    <tr>\n",
       "      <th>3</th>\n",
       "      <td>GP</td>\n",
       "      <td>F</td>\n",
       "      <td>15</td>\n",
       "      <td>U</td>\n",
       "      <td>GT3</td>\n",
       "      <td>T</td>\n",
       "      <td>4</td>\n",
       "      <td>2</td>\n",
       "      <td>health</td>\n",
       "      <td>services</td>\n",
       "      <td>...</td>\n",
       "      <td>yes</td>\n",
       "      <td>yes</td>\n",
       "      <td>3</td>\n",
       "      <td>2</td>\n",
       "      <td>2</td>\n",
       "      <td>1</td>\n",
       "      <td>1</td>\n",
       "      <td>5</td>\n",
       "      <td>2</td>\n",
       "      <td>yes</td>\n",
       "    </tr>\n",
       "    <tr>\n",
       "      <th>4</th>\n",
       "      <td>GP</td>\n",
       "      <td>F</td>\n",
       "      <td>16</td>\n",
       "      <td>U</td>\n",
       "      <td>GT3</td>\n",
       "      <td>T</td>\n",
       "      <td>3</td>\n",
       "      <td>3</td>\n",
       "      <td>other</td>\n",
       "      <td>other</td>\n",
       "      <td>...</td>\n",
       "      <td>no</td>\n",
       "      <td>no</td>\n",
       "      <td>4</td>\n",
       "      <td>3</td>\n",
       "      <td>2</td>\n",
       "      <td>1</td>\n",
       "      <td>2</td>\n",
       "      <td>5</td>\n",
       "      <td>4</td>\n",
       "      <td>yes</td>\n",
       "    </tr>\n",
       "  </tbody>\n",
       "</table>\n",
       "<p>5 rows × 31 columns</p>\n",
       "</div>"
      ],
      "text/plain": [
       "  school sex  age address famsize Pstatus  Medu  Fedu     Mjob      Fjob  ...  \\\n",
       "0     GP   F   18       U     GT3       A     4     4  at_home   teacher  ...   \n",
       "1     GP   F   17       U     GT3       T     1     1  at_home     other  ...   \n",
       "2     GP   F   15       U     LE3       T     1     1  at_home     other  ...   \n",
       "3     GP   F   15       U     GT3       T     4     2   health  services  ...   \n",
       "4     GP   F   16       U     GT3       T     3     3    other     other  ...   \n",
       "\n",
       "  internet romantic  famrel  freetime  goout Dalc Walc health absences passed  \n",
       "0       no       no       4         3      4    1    1      3        6     no  \n",
       "1      yes       no       5         3      3    1    1      3        4     no  \n",
       "2      yes       no       4         3      2    2    3      3       10    yes  \n",
       "3      yes      yes       3         2      2    1    1      5        2    yes  \n",
       "4       no       no       4         3      2    1    2      5        4    yes  \n",
       "\n",
       "[5 rows x 31 columns]"
      ]
     },
     "execution_count": 54,
     "metadata": {},
     "output_type": "execute_result"
    }
   ],
   "source": [
    "data.head()"
   ]
  },
  {
   "cell_type": "markdown",
   "id": "44de632d",
   "metadata": {},
   "source": [
    "Através do comando \"head()\", é possível obter uma simplificação da estrutura geral do ficheiro, através da pré-visualização das primeiras 5 linhas do _dataset_. Ainda, verifica-se vários tipos de dados identificados (categóricos, numéricos, binários, etc.)."
   ]
  },
  {
   "cell_type": "code",
   "execution_count": 55,
   "id": "9e280a1b",
   "metadata": {},
   "outputs": [
    {
     "data": {
      "application/vnd.microsoft.datawrangler.viewer.v0+json": {
       "columns": [
        {
         "name": "index",
         "rawType": "int64",
         "type": "integer"
        },
        {
         "name": "school",
         "rawType": "object",
         "type": "string"
        },
        {
         "name": "sex",
         "rawType": "object",
         "type": "string"
        },
        {
         "name": "age",
         "rawType": "int64",
         "type": "integer"
        },
        {
         "name": "address",
         "rawType": "object",
         "type": "string"
        },
        {
         "name": "famsize",
         "rawType": "object",
         "type": "string"
        },
        {
         "name": "Pstatus",
         "rawType": "object",
         "type": "string"
        },
        {
         "name": "Medu",
         "rawType": "int64",
         "type": "integer"
        },
        {
         "name": "Fedu",
         "rawType": "int64",
         "type": "integer"
        },
        {
         "name": "Mjob",
         "rawType": "object",
         "type": "string"
        },
        {
         "name": "Fjob",
         "rawType": "object",
         "type": "string"
        },
        {
         "name": "reason",
         "rawType": "object",
         "type": "string"
        },
        {
         "name": "guardian",
         "rawType": "object",
         "type": "string"
        },
        {
         "name": "traveltime",
         "rawType": "int64",
         "type": "integer"
        },
        {
         "name": "studytime",
         "rawType": "int64",
         "type": "integer"
        },
        {
         "name": "failures",
         "rawType": "int64",
         "type": "integer"
        },
        {
         "name": "schoolsup",
         "rawType": "object",
         "type": "string"
        },
        {
         "name": "famsup",
         "rawType": "object",
         "type": "string"
        },
        {
         "name": "paid",
         "rawType": "object",
         "type": "string"
        },
        {
         "name": "activities",
         "rawType": "object",
         "type": "string"
        },
        {
         "name": "nursery",
         "rawType": "object",
         "type": "string"
        },
        {
         "name": "higher",
         "rawType": "object",
         "type": "string"
        },
        {
         "name": "internet",
         "rawType": "object",
         "type": "string"
        },
        {
         "name": "romantic",
         "rawType": "object",
         "type": "string"
        },
        {
         "name": "famrel",
         "rawType": "int64",
         "type": "integer"
        },
        {
         "name": "freetime",
         "rawType": "int64",
         "type": "integer"
        },
        {
         "name": "goout",
         "rawType": "int64",
         "type": "integer"
        },
        {
         "name": "Dalc",
         "rawType": "int64",
         "type": "integer"
        },
        {
         "name": "Walc",
         "rawType": "int64",
         "type": "integer"
        },
        {
         "name": "health",
         "rawType": "int64",
         "type": "integer"
        },
        {
         "name": "absences",
         "rawType": "int64",
         "type": "integer"
        },
        {
         "name": "passed",
         "rawType": "object",
         "type": "string"
        }
       ],
       "ref": "0a830736-eafd-4e4a-b650-6fac22ba7f04",
       "rows": [
        [
         "390",
         "MS",
         "M",
         "20",
         "U",
         "LE3",
         "A",
         "2",
         "2",
         "services",
         "services",
         "course",
         "other",
         "1",
         "2",
         "2",
         "no",
         "yes",
         "yes",
         "no",
         "yes",
         "yes",
         "no",
         "no",
         "5",
         "5",
         "4",
         "4",
         "5",
         "4",
         "11",
         "no"
        ],
        [
         "391",
         "MS",
         "M",
         "17",
         "U",
         "LE3",
         "T",
         "3",
         "1",
         "services",
         "services",
         "course",
         "mother",
         "2",
         "1",
         "0",
         "no",
         "no",
         "no",
         "no",
         "no",
         "yes",
         "yes",
         "no",
         "2",
         "4",
         "5",
         "3",
         "4",
         "2",
         "3",
         "yes"
        ],
        [
         "392",
         "MS",
         "M",
         "21",
         "R",
         "GT3",
         "T",
         "1",
         "1",
         "other",
         "other",
         "course",
         "other",
         "1",
         "1",
         "3",
         "no",
         "no",
         "no",
         "no",
         "no",
         "yes",
         "no",
         "no",
         "5",
         "5",
         "3",
         "3",
         "3",
         "3",
         "3",
         "no"
        ],
        [
         "393",
         "MS",
         "M",
         "18",
         "R",
         "LE3",
         "T",
         "3",
         "2",
         "services",
         "other",
         "course",
         "mother",
         "3",
         "1",
         "0",
         "no",
         "no",
         "no",
         "no",
         "no",
         "yes",
         "yes",
         "no",
         "4",
         "4",
         "1",
         "3",
         "4",
         "5",
         "0",
         "yes"
        ],
        [
         "394",
         "MS",
         "M",
         "19",
         "U",
         "LE3",
         "T",
         "1",
         "1",
         "other",
         "at_home",
         "course",
         "father",
         "1",
         "1",
         "0",
         "no",
         "no",
         "no",
         "no",
         "yes",
         "yes",
         "yes",
         "no",
         "3",
         "2",
         "3",
         "3",
         "3",
         "5",
         "5",
         "no"
        ]
       ],
       "shape": {
        "columns": 31,
        "rows": 5
       }
      },
      "text/html": [
       "<div>\n",
       "<style scoped>\n",
       "    .dataframe tbody tr th:only-of-type {\n",
       "        vertical-align: middle;\n",
       "    }\n",
       "\n",
       "    .dataframe tbody tr th {\n",
       "        vertical-align: top;\n",
       "    }\n",
       "\n",
       "    .dataframe thead th {\n",
       "        text-align: right;\n",
       "    }\n",
       "</style>\n",
       "<table border=\"1\" class=\"dataframe\">\n",
       "  <thead>\n",
       "    <tr style=\"text-align: right;\">\n",
       "      <th></th>\n",
       "      <th>school</th>\n",
       "      <th>sex</th>\n",
       "      <th>age</th>\n",
       "      <th>address</th>\n",
       "      <th>famsize</th>\n",
       "      <th>Pstatus</th>\n",
       "      <th>Medu</th>\n",
       "      <th>Fedu</th>\n",
       "      <th>Mjob</th>\n",
       "      <th>Fjob</th>\n",
       "      <th>...</th>\n",
       "      <th>internet</th>\n",
       "      <th>romantic</th>\n",
       "      <th>famrel</th>\n",
       "      <th>freetime</th>\n",
       "      <th>goout</th>\n",
       "      <th>Dalc</th>\n",
       "      <th>Walc</th>\n",
       "      <th>health</th>\n",
       "      <th>absences</th>\n",
       "      <th>passed</th>\n",
       "    </tr>\n",
       "  </thead>\n",
       "  <tbody>\n",
       "    <tr>\n",
       "      <th>390</th>\n",
       "      <td>MS</td>\n",
       "      <td>M</td>\n",
       "      <td>20</td>\n",
       "      <td>U</td>\n",
       "      <td>LE3</td>\n",
       "      <td>A</td>\n",
       "      <td>2</td>\n",
       "      <td>2</td>\n",
       "      <td>services</td>\n",
       "      <td>services</td>\n",
       "      <td>...</td>\n",
       "      <td>no</td>\n",
       "      <td>no</td>\n",
       "      <td>5</td>\n",
       "      <td>5</td>\n",
       "      <td>4</td>\n",
       "      <td>4</td>\n",
       "      <td>5</td>\n",
       "      <td>4</td>\n",
       "      <td>11</td>\n",
       "      <td>no</td>\n",
       "    </tr>\n",
       "    <tr>\n",
       "      <th>391</th>\n",
       "      <td>MS</td>\n",
       "      <td>M</td>\n",
       "      <td>17</td>\n",
       "      <td>U</td>\n",
       "      <td>LE3</td>\n",
       "      <td>T</td>\n",
       "      <td>3</td>\n",
       "      <td>1</td>\n",
       "      <td>services</td>\n",
       "      <td>services</td>\n",
       "      <td>...</td>\n",
       "      <td>yes</td>\n",
       "      <td>no</td>\n",
       "      <td>2</td>\n",
       "      <td>4</td>\n",
       "      <td>5</td>\n",
       "      <td>3</td>\n",
       "      <td>4</td>\n",
       "      <td>2</td>\n",
       "      <td>3</td>\n",
       "      <td>yes</td>\n",
       "    </tr>\n",
       "    <tr>\n",
       "      <th>392</th>\n",
       "      <td>MS</td>\n",
       "      <td>M</td>\n",
       "      <td>21</td>\n",
       "      <td>R</td>\n",
       "      <td>GT3</td>\n",
       "      <td>T</td>\n",
       "      <td>1</td>\n",
       "      <td>1</td>\n",
       "      <td>other</td>\n",
       "      <td>other</td>\n",
       "      <td>...</td>\n",
       "      <td>no</td>\n",
       "      <td>no</td>\n",
       "      <td>5</td>\n",
       "      <td>5</td>\n",
       "      <td>3</td>\n",
       "      <td>3</td>\n",
       "      <td>3</td>\n",
       "      <td>3</td>\n",
       "      <td>3</td>\n",
       "      <td>no</td>\n",
       "    </tr>\n",
       "    <tr>\n",
       "      <th>393</th>\n",
       "      <td>MS</td>\n",
       "      <td>M</td>\n",
       "      <td>18</td>\n",
       "      <td>R</td>\n",
       "      <td>LE3</td>\n",
       "      <td>T</td>\n",
       "      <td>3</td>\n",
       "      <td>2</td>\n",
       "      <td>services</td>\n",
       "      <td>other</td>\n",
       "      <td>...</td>\n",
       "      <td>yes</td>\n",
       "      <td>no</td>\n",
       "      <td>4</td>\n",
       "      <td>4</td>\n",
       "      <td>1</td>\n",
       "      <td>3</td>\n",
       "      <td>4</td>\n",
       "      <td>5</td>\n",
       "      <td>0</td>\n",
       "      <td>yes</td>\n",
       "    </tr>\n",
       "    <tr>\n",
       "      <th>394</th>\n",
       "      <td>MS</td>\n",
       "      <td>M</td>\n",
       "      <td>19</td>\n",
       "      <td>U</td>\n",
       "      <td>LE3</td>\n",
       "      <td>T</td>\n",
       "      <td>1</td>\n",
       "      <td>1</td>\n",
       "      <td>other</td>\n",
       "      <td>at_home</td>\n",
       "      <td>...</td>\n",
       "      <td>yes</td>\n",
       "      <td>no</td>\n",
       "      <td>3</td>\n",
       "      <td>2</td>\n",
       "      <td>3</td>\n",
       "      <td>3</td>\n",
       "      <td>3</td>\n",
       "      <td>5</td>\n",
       "      <td>5</td>\n",
       "      <td>no</td>\n",
       "    </tr>\n",
       "  </tbody>\n",
       "</table>\n",
       "<p>5 rows × 31 columns</p>\n",
       "</div>"
      ],
      "text/plain": [
       "    school sex  age address famsize Pstatus  Medu  Fedu      Mjob      Fjob  \\\n",
       "390     MS   M   20       U     LE3       A     2     2  services  services   \n",
       "391     MS   M   17       U     LE3       T     3     1  services  services   \n",
       "392     MS   M   21       R     GT3       T     1     1     other     other   \n",
       "393     MS   M   18       R     LE3       T     3     2  services     other   \n",
       "394     MS   M   19       U     LE3       T     1     1     other   at_home   \n",
       "\n",
       "     ... internet romantic  famrel  freetime  goout Dalc Walc health absences  \\\n",
       "390  ...       no       no       5         5      4    4    5      4       11   \n",
       "391  ...      yes       no       2         4      5    3    4      2        3   \n",
       "392  ...       no       no       5         5      3    3    3      3        3   \n",
       "393  ...      yes       no       4         4      1    3    4      5        0   \n",
       "394  ...      yes       no       3         2      3    3    3      5        5   \n",
       "\n",
       "    passed  \n",
       "390     no  \n",
       "391    yes  \n",
       "392     no  \n",
       "393    yes  \n",
       "394     no  \n",
       "\n",
       "[5 rows x 31 columns]"
      ]
     },
     "execution_count": 55,
     "metadata": {},
     "output_type": "execute_result"
    }
   ],
   "source": [
    "data.tail()"
   ]
  },
  {
   "cell_type": "markdown",
   "id": "533315a4",
   "metadata": {},
   "source": [
    "O comando \"tail()\" permite realizar o mesmo que o comando \"head()\", só que para as últimas 5 linhas do _dataset_."
   ]
  },
  {
   "cell_type": "code",
   "execution_count": 56,
   "id": "5ecd056b",
   "metadata": {},
   "outputs": [
    {
     "name": "stdout",
     "output_type": "stream",
     "text": [
      "\n",
      "--- Número e tipos de Valores  por Coluna ---\n",
      "school: 2 (GP, MS)\n",
      "sex: 2 (F, M)\n",
      "age: 8 (15, 16, 17, 18, 19, 20, 21, 22)\n",
      "address: 2 (R, U)\n",
      "famsize: 2 (GT3, LE3)\n",
      "Pstatus: 2 (A, T)\n",
      "Medu: 5 (0, 1, 2, 3, 4)\n",
      "Fedu: 5 (0, 1, 2, 3, 4)\n",
      "Mjob: 5 (at_home, health, other, services, teacher)\n",
      "Fjob: 5 (at_home, health, other, services, teacher)\n",
      "reason: 4 (course, home, other, reputation)\n",
      "guardian: 3 (father, mother, other)\n",
      "traveltime: 4 (1, 2, 3, 4)\n",
      "studytime: 4 (1, 2, 3, 4)\n",
      "failures: 4 (0, 1, 2, 3)\n",
      "schoolsup: 2 (no, yes)\n",
      "famsup: 2 (no, yes)\n",
      "paid: 2 (no, yes)\n",
      "activities: 2 (no, yes)\n",
      "nursery: 2 (no, yes)\n",
      "higher: 2 (no, yes)\n",
      "internet: 2 (no, yes)\n",
      "romantic: 2 (no, yes)\n",
      "famrel: 5 (1, 2, 3, 4, 5)\n",
      "freetime: 5 (1, 2, 3, 4, 5)\n",
      "goout: 5 (1, 2, 3, 4, 5)\n",
      "Dalc: 5 (1, 2, 3, 4, 5)\n",
      "Walc: 5 (1, 2, 3, 4, 5)\n",
      "health: 5 (1, 2, 3, 4, 5)\n",
      "absences: 34 (0, 1, 2, 3, 4, 5, 6, 7, 8, 9, 10, 11, 12, 13, 14, 15, 16, 17, 18, 19, 20, 21, 22, 23, 24, 25, 26, 28, 30, 38, 40, 54, 56, 75)\n",
      "passed: 2 (no, yes)\n"
     ]
    }
   ],
   "source": [
    "print(\"\\n--- Número e tipos de Valores  por Coluna ---\")\n",
    "for col in data.columns:\n",
    "        num_unique = data[col].nunique()\n",
    "        unique_values = data[col].unique()\n",
    "        try:\n",
    "            # para melhor legibilidade\n",
    "            sorted_unique_values = np.sort(unique_values)\n",
    "            # Formata os valores como string separados por vírgula\n",
    "            values_str = ', '.join(map(str, sorted_unique_values))\n",
    "        except TypeError: # Se não der para ordenar (tipos mistos)\n",
    "            values_str = ', '.join(map(str, unique_values))\n",
    "        print(f\"{col}: {num_unique} ({values_str})\")"
   ]
  },
  {
   "cell_type": "markdown",
   "id": "d60e3c99",
   "metadata": {},
   "source": [
    "A análise da cardinalidade permite identificar quantos valores distintos existem em cada coluna. Esta informação é útil para distinguir variáveis categóricas e numéricas, e para preparar adequadamente os dados para etapas futuras de processamento e modelação."
   ]
  },
  {
   "cell_type": "code",
   "execution_count": 57,
   "id": "1d3efb51",
   "metadata": {},
   "outputs": [
    {
     "name": "stdout",
     "output_type": "stream",
     "text": [
      "\n",
      "--- Contagem de Valores Ausentes por Coluna ---\n",
      "school        0\n",
      "sex           0\n",
      "age           0\n",
      "address       0\n",
      "famsize       0\n",
      "Pstatus       0\n",
      "Medu          0\n",
      "Fedu          0\n",
      "Mjob          0\n",
      "Fjob          0\n",
      "reason        0\n",
      "guardian      0\n",
      "traveltime    0\n",
      "studytime     0\n",
      "failures      0\n",
      "schoolsup     0\n",
      "famsup        0\n",
      "paid          0\n",
      "activities    0\n",
      "nursery       0\n",
      "higher        0\n",
      "internet      0\n",
      "romantic      0\n",
      "famrel        0\n",
      "freetime      0\n",
      "goout         0\n",
      "Dalc          0\n",
      "Walc          0\n",
      "health        0\n",
      "absences      0\n",
      "passed        0\n",
      "dtype: int64\n",
      "\n",
      "--- Total de Valores Ausentes no Dataset: 0 ---\n"
     ]
    }
   ],
   "source": [
    "print(\"\\n--- Contagem de Valores Ausentes por Coluna ---\")\n",
    "missing_values = data.isnull().sum()\n",
    "print(missing_values)\n",
    "print(f\"\\n--- Total de Valores Ausentes no Dataset: {missing_values.sum()} ---\")\n",
    "# Se houver muitos valores ausentes (>0), investigar mais a fundo depois."
   ]
  },
  {
   "cell_type": "markdown",
   "id": "40c4c09c",
   "metadata": {},
   "source": [
    "Esta etapa consiste no cálculo e exibição do número exato de valores ausentes (NaN/ nulos) em cada coluna do _dataset_. A identificação explícita desses valores é fundamental para avaliar a qualidade dos dados e definir estratégias de tratamento apropriadas, como inserção, remoção ou exclusão de variáveis com elevada proporção de dados em falta.\n",
    "Como, no _dataset_ em questão, não se verificam valores em falta, não será necessário proceder a técnicas de preenchimento ou eliminação de entradas incompletas nesta fase da análise."
   ]
  },
  {
   "cell_type": "code",
   "execution_count": 58,
   "id": "2bb59d65",
   "metadata": {},
   "outputs": [
    {
     "name": "stdout",
     "output_type": "stream",
     "text": [
      "\n",
      "--- Estatísticas Descritivas (Colunas Numéricas)  ---\n",
      "              age        Medu        Fedu  traveltime   studytime    failures  \\\n",
      "count  395.000000  395.000000  395.000000  395.000000  395.000000  395.000000   \n",
      "mean    16.696203    2.749367    2.521519    1.448101    2.035443    0.334177   \n",
      "std      1.276043    1.094735    1.088201    0.697505    0.839240    0.743651   \n",
      "min     15.000000    0.000000    0.000000    1.000000    1.000000    0.000000   \n",
      "25%     16.000000    2.000000    2.000000    1.000000    1.000000    0.000000   \n",
      "50%     17.000000    3.000000    2.000000    1.000000    2.000000    0.000000   \n",
      "75%     18.000000    4.000000    3.000000    2.000000    2.000000    0.000000   \n",
      "max     22.000000    4.000000    4.000000    4.000000    4.000000    3.000000   \n",
      "\n",
      "           famrel    freetime       goout        Dalc        Walc      health  \\\n",
      "count  395.000000  395.000000  395.000000  395.000000  395.000000  395.000000   \n",
      "mean     3.944304    3.235443    3.108861    1.481013    2.291139    3.554430   \n",
      "std      0.896659    0.998862    1.113278    0.890741    1.287897    1.390303   \n",
      "min      1.000000    1.000000    1.000000    1.000000    1.000000    1.000000   \n",
      "25%      4.000000    3.000000    2.000000    1.000000    1.000000    3.000000   \n",
      "50%      4.000000    3.000000    3.000000    1.000000    2.000000    4.000000   \n",
      "75%      5.000000    4.000000    4.000000    2.000000    3.000000    5.000000   \n",
      "max      5.000000    5.000000    5.000000    5.000000    5.000000    5.000000   \n",
      "\n",
      "         absences  \n",
      "count  395.000000  \n",
      "mean     5.708861  \n",
      "std      8.003096  \n",
      "min      0.000000  \n",
      "25%      0.000000  \n",
      "50%      4.000000  \n",
      "75%      8.000000  \n",
      "max     75.000000  \n"
     ]
    }
   ],
   "source": [
    "# Para colunas numéricas (int, float)\n",
    "print(\"\\n--- Estatísticas Descritivas (Colunas Numéricas)  ---\")\n",
    "print(data.describe())"
   ]
  },
  {
   "cell_type": "markdown",
   "id": "30b07b66",
   "metadata": {},
   "source": [
    "Foram geradas estatísticas descritivas para as variáveis numéricas do _dataset_, incluindo média, desvio padrão, valores mínimos e máximos, bem como os quartis. Esta análise permite obter uma visão geral da distribuição dos dados, identificar possíveis _outliers_, como no caso da variável _\"absences\"_, e compreender o comportamento central de cada atributo."
   ]
  },
  {
   "cell_type": "code",
   "execution_count": 59,
   "id": "a5d22e73",
   "metadata": {},
   "outputs": [
    {
     "name": "stdout",
     "output_type": "stream",
     "text": [
      "\n",
      "--- Estatísticas Descritivas (Colunas Categóricas/Object) ---\n",
      "       school  sex address famsize Pstatus   Mjob   Fjob  reason guardian  \\\n",
      "count     395  395     395     395     395    395    395     395      395   \n",
      "unique      2    2       2       2       2      5      5       4        3   \n",
      "top        GP    F       U     GT3       T  other  other  course   mother   \n",
      "freq      349  208     307     281     354    141    217     145      273   \n",
      "\n",
      "       schoolsup famsup paid activities nursery higher internet romantic  \\\n",
      "count        395    395  395        395     395    395      395      395   \n",
      "unique         2      2    2          2       2      2        2        2   \n",
      "top           no    yes   no        yes     yes    yes      yes       no   \n",
      "freq         344    242  214        201     314    375      329      263   \n",
      "\n",
      "       passed  \n",
      "count     395  \n",
      "unique      2  \n",
      "top       yes  \n",
      "freq      265  \n"
     ]
    }
   ],
   "source": [
    "print(\"\\n--- Estatísticas Descritivas (Colunas Categóricas/Object) ---\")\n",
    "# O include='object' retorna strings. \n",
    "print(data.describe(include='object'))"
   ]
  },
  {
   "cell_type": "markdown",
   "id": "7540224b",
   "metadata": {},
   "source": [
    "Foram geradas estatísticas descritivas para as colunas categóricas com data.describe(include='object'). Esta função permite observar o número de valores não nulos, a quantidade de categorias distintas, a categoria mais comum e a sua frequência.  \n",
    "No dataset em análise, observa-se, por exemplo, que a maioria dos alunos pertence à escola “GP” e que o género mais frequente é o feminino (“F”)."
   ]
  },
  {
   "cell_type": "code",
   "execution_count": 60,
   "id": "91335416",
   "metadata": {},
   "outputs": [
    {
     "name": "stdout",
     "output_type": "stream",
     "text": [
      "\n",
      "--- Distribuição da Variável Alvo ('passed') ---\n",
      "passed\n",
      "yes    265\n",
      "no     130\n",
      "Name: count, dtype: int64\n",
      "\n",
      "--- Distribuição Percentual da Variável Alvo ('passed') ---\n",
      "passed\n",
      "yes    67.088608\n",
      "no     32.911392\n",
      "Name: proportion, dtype: float64\n"
     ]
    }
   ],
   "source": [
    "\n",
    "print(\"\\n--- Distribuição da Variável Alvo ('passed') ---\")\n",
    "print(data['passed'].value_counts())\n",
    "print(\"\\n--- Distribuição Percentual da Variável Alvo ('passed') ---\")\n",
    "print(data['passed'].value_counts(normalize=True) * 100)"
   ]
  },
  {
   "cell_type": "markdown",
   "id": "2c96da04",
   "metadata": {},
   "source": [
    "A variável alvo _passed_ representa se o aluno foi aprovado ou não. A análise inicial mostra que cerca de 67% dos alunos foram aprovados, enquanto 33% não o foram. Esta distribuição indica um ligeiro desequilíbrio entre as classes, o que poderá influenciar a escolha de métricas e técnicas nos modelos de previsão.\n",
    "\n",
    "---"
   ]
  },
  {
   "cell_type": "markdown",
   "id": "399856ef",
   "metadata": {},
   "source": [
    "### 4.3. **Identificação de _features_ discriminatórias**\n",
    "Seguem-se alguns gráficos que visam representar visualmente a informação disponibilizada pelo _dataset_, antes de ser realizado o pré-processamento dos dados. O objetivo é identificar  as _features_ que mais contribuem para prever se um aluno será aprovado ou não.\n",
    "\n",
    "Sendo intuitivo considerar que a elevada taxa de faltas constitui uma das principais causas de reprovação, propõe-se a seguir uma análise da relação entre o número de faltas e de aprovações, de forma a verificar se esta hipótese se confirma."
   ]
  },
  {
   "cell_type": "code",
   "execution_count": 61,
   "id": "a4bd548e",
   "metadata": {},
   "outputs": [
    {
     "data": {
      "image/png": "[encoded data removed]",
      "text/plain": [
       "<Figure size 1400x700 with 1 Axes>"
      ]
     },
     "metadata": {},
     "output_type": "display_data"
    },
    {
     "name": "stdout",
     "output_type": "stream",
     "text": [
      "\n",
      "--- Média e Mediana de Faltas por Grupo ---\n",
      "            mean  median\n",
      "passed                  \n",
      "no      6.761538     4.0\n",
      "yes     5.192453     4.0\n"
     ]
    }
   ],
   "source": [
    "# Define o mapeamento de cores\n",
    "color_map = {'yes': 'green', 'no': 'red'}\n",
    "\n",
    "plt.figure(figsize=(14, 7)) # Um pouco mais largo para espalhar os pontos\n",
    "\n",
    "# Usar stripplot para visualizar pontos individuais\n",
    "# Jitter=True adiciona uma pequena dispersão horizontal para evitar sobreposição perfeita\n",
    "sns.stripplot(\n",
    "    x='absences',\n",
    "    y='passed',        \n",
    "    data=data,\n",
    "    hue='passed',       #detalhes visuais para melhorar a visulaização\n",
    "    dodge=True,         \n",
    "    palette=color_map, \n",
    "    order=['yes', 'no'],\n",
    "    jitter=0.1,        \n",
    "    alpha=0.7,         \n",
    "    size=5             \n",
    ")\n",
    "\n",
    "# Adicionar linhas de Média e Mediana Geral de Faltas como referência\n",
    "mean_absences = data['absences'].mean()\n",
    "median_absences = data['absences'].median()\n",
    "plt.axvline(mean_absences, color='dodgerblue', linestyle='--', label=f'Média Geral Faltas ({mean_absences:.2f})')\n",
    "plt.axvline(median_absences, color='orange', linestyle=':', label=f'Mediana Geral Faltas ({median_absences:.2f})')\n",
    "\n",
    "# Ajustes do gráfico\n",
    "plt.title('Situação Final vs. Número de Faltas (Cada Ponto é um Aluno)')\n",
    "plt.xlabel('Número de Faltas (absences)')\n",
    "plt.ylabel('Situação Final')\n",
    "plt.yticks([0, 1], ['Passou (Verde)', 'Não Passou (Vermelho)']) # Melhora rótulos do eixo Y\n",
    "\n",
    "# Adicionar grid horizontal para separar melhor as categorias\n",
    "plt.grid(axis='y', linestyle='--', alpha=0.7)\n",
    "\n",
    "# Ajustar a legenda\n",
    "# O stripplot pode criar uma legenda por padrão, mas podemos querer apenas as linhas verticais\n",
    "handles, labels = plt.gca().get_legend_handles_labels()\n",
    "# Filtra para manter apenas as legendas das linhas verticais (axvline)\n",
    "line_labels = {label: handle for handle, label in zip(handles, labels) if 'Média' in label or 'Mediana' in label}\n",
    "plt.legend(line_labels.values(), line_labels.keys(), title=\"Referências\")\n",
    "\n",
    "\n",
    "plt.show()\n",
    "\n",
    "# Opcional: Ver média/mediana de faltas por grupo\n",
    "print(\"\\n--- Média e Mediana de Faltas por Grupo ---\")\n",
    "print(data.groupby('passed')['absences'].agg(['mean', 'median']))"
   ]
  },
  {
   "cell_type": "markdown",
   "id": "bf2df208",
   "metadata": {},
   "source": [
    "#### _Conclusão da Relação entre Faltas e Situação Final dos Alunos_\n",
    "A análise gráfica e estatística dos dados permite observar uma correlação significativa entre o número de faltas e a situação final dos alunos.\n",
    "\n",
    "De forma geral, verificam-se os seguintes padrões:\n",
    "- **Alunos aprovados** (Verde): tendem a apresentar um número baixo de faltas, principalmente abaixo das 10-15 faltas. A maioria destes alunos encontra-se abaixo da média geral de faltas (≈ 5,71) e da mediana (4,00). Contudo, existem certas exceções como casos de aprovação com um número elevado de faltas (superior a 30).\n",
    "\n",
    "- **Alunos reprovados** (Vermelho): estes alunos para além de apresentarem uma média de faltas mais elevada, exibem uma maior dispersão no número de faltas. Apesar de existirem casos de reprovação com poucas ou nenhumas faltas, o que sugere a influência de outros fatores, como o desempenho em avaliações, não mostrados neste gráfico, observa-se uma tendência clara: valores mais elevados de faltas estão fortemente associados à reprovação. Através do gráfico, é possível perceber que a maioria dos alunos com mais de 25 a 30 faltas foram reprovados.\n",
    "\n",
    "As linhas de referência presentes no gráfico (média e mediana) ajudam a contextualizar os dados, mas a acumulação de faltas muito acima desses valores é o fator que distingue, com maior clareza, os alunos que não atingiram os critérios mínimos para aprovação.  \n",
    "\n",
    "Assim, apesar do número de faltas não ser o único fator determinante para o sucesso académico, os dados sugerem que se trata de um fator relevante, sobretudo quanto aos valores extremos.\n",
    "\n",
    "#### _Análise das Causas Associadas ao Número de Faltas_\n",
    "\n",
    "Após verificar uma influência negativa do número de faltas na taxa de aprovação dos alunos, torna-se pertinente apurar as principais causas que contribuem para as faltas dos estudantes. Para esse fim, será utilizada uma visualização do tipo `Blox plot` para as faltas \"_absences_\", que permitirá analisar a distribuição das faltas em relação a outras variáveis relevantes."
   ]
  },
  {
   "cell_type": "code",
   "execution_count": 62,
   "id": "0b9fc8b8",
   "metadata": {},
   "outputs": [
    {
     "name": "stderr",
     "output_type": "stream",
     "text": [
      "/tmp/ipykernel_69789/3870577810.py:6: FutureWarning: \n",
      "\n",
      "Passing `palette` without assigning `hue` is deprecated and will be removed in v0.14.0. Assign the `y` variable to `hue` and set `legend=False` for the same effect.\n",
      "\n",
      "  sns.boxplot(x=data['absences'], palette='viridis')\n"
     ]
    },
    {
     "data": {
      "image/png": "[encoded data removed]",
      "text/plain": [
       "<Figure size 1000x400 with 1 Axes>"
      ]
     },
     "metadata": {},
     "output_type": "display_data"
    },
    {
     "name": "stdout",
     "output_type": "stream",
     "text": [
      "\n",
      "DataFrame 'outliers_and_failed' (Exibição completa):\n",
      "    school sex  age address famsize Pstatus  Medu  Fedu      Mjob      Fjob  \\\n",
      "276     GP   F   18       R     GT3       A     3     2     other  services   \n",
      "183     GP   F   17       U     LE3       T     3     3     other     other   \n",
      "307     GP   M   19       U     GT3       T     4     4   teacher  services   \n",
      "280     GP   M   17       U     LE3       A     4     1  services     other   \n",
      "205     GP   F   17       U     GT3       T     3     4   at_home  services   \n",
      "103     GP   F   15       U     GT3       T     3     2  services     other   \n",
      "216     GP   F   17       U     GT3       T     4     3     other     other   \n",
      "277     GP   M   18       U     GT3       T     4     4   teacher  services   \n",
      "\n",
      "         reason guardian  traveltime  studytime  failures schoolsup famsup  \\\n",
      "276        home   mother           2          2         0        no     no   \n",
      "183  reputation   mother           1          2         0        no    yes   \n",
      "307  reputation    other           2          1         1        no    yes   \n",
      "280        home   mother           2          1         0        no     no   \n",
      "205        home   mother           1          3         1        no    yes   \n",
      "103        home   mother           2          2         0       yes    yes   \n",
      "216  reputation   mother           1          2         2        no     no   \n",
      "277        home   mother           2          1         0        no     no   \n",
      "\n",
      "    paid activities nursery higher internet romantic  famrel  freetime  goout  \\\n",
      "276   no         no      no     no      yes      yes       4         1      1   \n",
      "183   no        yes     yes    yes      yes      yes       5         3      3   \n",
      "307  yes         no     yes    yes      yes      yes       4         3      4   \n",
      "280  yes        yes     yes    yes      yes      yes       4         5      4   \n",
      "205  yes         no     yes    yes      yes      yes       4         4      3   \n",
      "103  yes         no     yes    yes      yes       no       4         3      5   \n",
      "216  yes         no     yes    yes      yes      yes       3         4      5   \n",
      "277  yes        yes     yes    yes      yes       no       3         2      4   \n",
      "\n",
      "     Dalc  Walc  health  absences passed  \n",
      "276     1     1       5        75     no  \n",
      "183     2     3       1        56     no  \n",
      "307     1     1       4        38     no  \n",
      "280     2     4       5        30     no  \n",
      "205     3     4       5        28     no  \n",
      "103     1     1       2        26     no  \n",
      "216     2     4       1        22     no  \n",
      "277     1     4       3        22     no  \n"
     ]
    }
   ],
   "source": [
    "plt.figure(figsize=(10, 4)) \n",
    "\n",
    "# Criar o Box Plot para 'absences'\n",
    "# Usar x= para um box plot horizontal, que pode ser melhor para visualizar\n",
    "# outliers numa escala ampla como a de faltas.\n",
    "sns.boxplot(x=data['absences'], palette='viridis')\n",
    "\n",
    "plt.title('Box Plot das Faltas (absences) - Mostrando Outliers')\n",
    "plt.xlabel('Número de Faltas')\n",
    "#plt.ylabel('') # Não necessário para boxplot horizontal de uma variável\n",
    "\n",
    "# Adicionar linhas de Média e Mediana para referência (opcional no boxplot)\n",
    "mean_absences = data['absences'].mean()\n",
    "median_absences = data['absences'].median()\n",
    "plt.axvline(mean_absences, color='dodgerblue', linestyle='--', label=f'Média ({mean_absences:.2f})')\n",
    "plt.axvline(median_absences, color='orange', linestyle=':', label=f'Mediana ({median_absences:.2f})')\n",
    "plt.legend()\n",
    "\n",
    "plt.show()\n",
    "\n",
    "# Opcional: Imprimir os valores considerados outliers pelo critério do boxplot (aproximado)\n",
    "q1 = data['absences'].quantile(0.25)\n",
    "q3 = data['absences'].quantile(0.75)\n",
    "iqr = q3 - q1\n",
    "lower_bound = q1 - 1.5 * iqr\n",
    "upper_bound = q3 + 1.5 * iqr\n",
    "# Filtrar o DataFrame original para obter apenas os outliers em 'absences'\n",
    "outliers_absences = data[(data['absences'] < lower_bound) | (data['absences'] > upper_bound)].copy()\n",
    "# Usar .copy() para evitar SettingWithCopyWarning ao adicionar a coluna 'passed_mapped' depois\n",
    "\n",
    "# print(f\"\\n--- Potenciais Outliers Identificados em 'absences' (Total: {len(outliers_absences)}) ---\")\n",
    "# Mostrar alguns exemplos de outliers gerais (ordenados por faltas, as 15 maiores)\n",
    "# print(outliers_absences.sort_values('absences', ascending=False).head(15))\n",
    "\n",
    "# --- Filtrar Outliers que Reprovaram ---\n",
    "# Agora, dentro dos outliers, selecionar apenas aqueles onde 'passed' é 'no'\n",
    "outliers_and_failed = outliers_absences[outliers_absences['passed'] == 'no'].copy()\n",
    "print(\"\\nDataFrame 'outliers_and_failed' (Exibição completa):\")\n",
    "with pd.option_context('display.max_rows', None, 'display.max_columns', None):\n",
    "    print(outliers_and_failed.sort_values('absences', ascending=False))\n",
    "# Usar .copy() novamente para esta nova filtragem\n",
    "\n",
    "#print(f\"\\n--- Alunos Outliers em 'absences' QUE REPROVARAM ('passed' == 'no') (Total: {len(outliers_and_failed)}) ---\")\n",
    "# Mostrar o DataFrame com os alunos que são outliers e reprovaram\n",
    "#print(outliers_and_failed.sort_values('absences', ascending=False)) # Mostrar todos, já que são poucos\n"
   ]
  },
  {
   "cell_type": "markdown",
   "id": "b9f2387c",
   "metadata": {},
   "source": [
    "#### _Análise de Casos Específicos: Alunos com Padrões Atípicos de Faltas_\n",
    "\n",
    "Para além da análise geral da relação entre variáveis e a aprovação, é relevante identificar grupos de risco específicos de alunos que apresentam comportamentos atípicos e que reprovaram.\n",
    "\n",
    "A partir do `Box plot` das faltas, foram identificados **pontenciais _outliers_**: alunos cujo número de faltas se encontra significativamente acima da média ou mediana, ultrapassando a dispersão observada na maioria da amostra.\n",
    "\n",
    "Focando este grupo de alunos, analisou-se o seu desempenho final, tendo sido possível verificar que vários destes _outliers_ **não foram aprovados**. A lista correspondente a \"Alunos Outliers em 'absences' que Reprovaram\" destaca precisamente estes casos.\n",
    "\n",
    "Este subconjunto representa um grupo de **alto risco**, combinando um comportamento atípico de faltas excessivas com o resultado final de reprovação. Tal perfil justifica uma atenção especial por parte de estruturas de apoio educativo, nomeadamente através de intervenções urgentes, direcionadas e personalizadas. A identificação das razões subjacentes às faltas excessivas, como problemas de saúde, contexto familiar adverso, ou desmotivação, deve orientar estratégias de mitigação adaptadas à realidade de cada aluno.\n",
    "\n",
    "Adicionalmente, ao cruzar os dados dos _outliers_ com outras variáveis, observaram-se dois fatores com maior incidência entre os casos de reprovação com faltas elevadas:  \n",
    "- O consumo de álcool nos fins de semana (`walc >= 3`)\n",
    "- A existência de um relacionamento amoroso (`romantic = yes`)  \n",
    "- O apoio disponibilizado pela escola nos estudos (`schoolsup = no`)\n",
    "\n",
    "Esta análise indica potenciais dimensões pessoais, familiares e do ambiente escolar que podem influenciar o comportamento escolar e justificam uma análise mais aprofundada, relativamente às políticas educativas de apoio social.\n",
    "\n",
    "---"
   ]
  },
  {
   "cell_type": "markdown",
   "id": "284a3e86",
   "metadata": {},
   "source": [
    "#### 4.3.1. Hipótese 1 - Consumo de álcool"
   ]
  },
  {
   "cell_type": "markdown",
   "id": "959e7c4e",
   "metadata": {},
   "source": [
    "Será analisado o impacto do consumo de álcool durante o fim de semana na taxa de aprovação dos alunos."
   ]
  },
  {
   "cell_type": "code",
   "execution_count": 63,
   "id": "1dd950de",
   "metadata": {},
   "outputs": [
    {
     "name": "stderr",
     "output_type": "stream",
     "text": [
      "/tmp/ipykernel_69789/2153466852.py:12: FutureWarning: \n",
      "\n",
      "Passing `palette` without assigning `hue` is deprecated and will be removed in v0.14.0. Assign the `x` variable to `hue` and set `legend=False` for the same effect.\n",
      "\n",
      "  sns.barplot(data=resultados, x=\"Walc\", y=\"approval_rate\", palette=\"Blues\")\n"
     ]
    },
    {
     "data": {
      "image/png": "[encoded data removed]",
      "text/plain": [
       "<Figure size 640x480 with 1 Axes>"
      ]
     },
     "metadata": {},
     "output_type": "display_data"
    }
   ],
   "source": [
    "# Agrupar os dados por consumo de álcool ao fim de semana (Walc) e calcular a percentagem de aprovação\n",
    "resultados = data.groupby(\"Walc\")[\"passed\"].apply(lambda x: (x == \"yes\").mean()).reset_index()\n",
    "\n",
    "# Renomear colunas\n",
    "resultados.columns = [\"Walc\", \"approval_rate\"]\n",
    "resultados[\"approval_rate\"] *= 100  # converter para percentagem\n",
    "\n",
    "# Ordenar por nível de consumo (garantir que os níveis aparecem corretamente)\n",
    "resultados = resultados.sort_values(\"Walc\")\n",
    "\n",
    "# Gráfico de barras\n",
    "sns.barplot(data=resultados, x=\"Walc\", y=\"approval_rate\", palette=\"Blues\")\n",
    "\n",
    "plt.title('Percentagem de Aprovação por Consumo de Álcool ao Fim de Semana')\n",
    "plt.ylabel(\"Taxa de Aprovação (%)\")\n",
    "plt.xlabel(\"Consumo de Álcool (0 = 'Muito Baixo'; 4 = 'Muito Alto')\")\n",
    "plt.ylim(0, 100)\n",
    "plt.xticks(ticks=range(0, 5), labels=range(0, 5))  # força o eixo X a mostrar 0 a 4\n",
    "\n",
    "# Mostrar valores no topo das barras\n",
    "for index, row in resultados.iterrows():\n",
    "    plt.text(x=index, y=row[\"approval_rate\"] + 1, s=f'{row[\"approval_rate\"]:.2f}%', \n",
    "             ha='center', va='bottom')\n",
    "\n",
    "plt.tight_layout()\n",
    "plt.show()"
   ]
  },
  {
   "cell_type": "markdown",
   "id": "68add675",
   "metadata": {},
   "source": [
    "Observa-se uma variação considerável na taxa de aprovação entre os diferentes níveis de consumo de álcool ao fim de semana. Embora o grupo com consumo nível 1 apresente a maior taxa de aprovação (70,59%), verifica-se uma tendência decrescente na taxa de sucesso académico com o aumento do, com destaque para o nível 3, que apresenta apenas 60,78% de aprovação. No entanto, é importante referir que entre os níveis 2,3 e 4, as diferenças na taxa de aprovação são relativamente pequenas, o que indica que esta variável, quando analisada isoladamente, pode não ser suficientemente discriminatória para identificar alunos em risco.\n",
    "\n",
    "Ainda assim, este padrão sugere que o consumo elevado de álcool ao fim de semana pode estar associado a um menor desempenho académico, possivelmente devido ao cansaço, falta de foco ou dificuldades cognitivas associadas ao consumo excessivo de substâncias. Esta variável, quando analisada isoladamente, revela-se como um fator de risco moderado, mas significativo, no percurso escolar dos alunos.\n",
    "\n",
    "Assim, é recomendável desenvolver ações de prevenção e sensibilização, especialmente orientadas para os alunos que apresentam níveis mais elevados de consumo. Algumas medidas possíveis incluem:\n",
    "\n",
    "- **Sessões de educação para a saúde**, com enfoque nos efeitos do consumo de álcool sobre a memória, a concentração e a performance escolar;\n",
    "\n",
    "- **Campanhas de sensibilização**, conduzidas em colaboração com técnicos de saúde ou entidades externas, sobre os riscos físicos, emocionais e académicos do álcool;\n",
    "\n",
    "- Integração do **tema nas aulas de Cidadania e Desenvolvimento**, promovendo o debate sobre estilos de vida saudáveis e escolhas conscientes;\n",
    "\n",
    "- **Acompanhamento personalizado por parte dos serviços de psicologia e orientação escolar**, para alunos identificados com comportamentos de risco;\n",
    "\n",
    "- **Parcerias com famílias**, incentivando uma maior comunicação e envolvimento parental relativamente aos hábitos dos alunos fora da escola.\n",
    "\n",
    "Estas iniciativas podem contribuir para reduzir o impacto negativo do consumo de álcool no rendimento escolar, promovendo estilos de vida mais saudáveis e, consequentemente, um ambiente mais favorável à aprendizagem e ao sucesso académico.\n",
    "\n",
    "---\n",
    "\n",
    "#### 4.3.2. Hipótese 2 - Relacionamento amoroso\n",
    "Será explorada a influência da existência de uma relação amorosa no desempenho académico dos estudantes."
   ]
  },
  {
   "cell_type": "code",
   "execution_count": 64,
   "id": "99282407",
   "metadata": {},
   "outputs": [
    {
     "data": {
      "image/png": "[encoded data removed]",
      "text/plain": [
       "<Figure size 640x480 with 1 Axes>"
      ]
     },
     "metadata": {},
     "output_type": "display_data"
    }
   ],
   "source": [
    "# Agrupar os dados por status romântico e calcular a percentagem de aprovação (passed == \"yes\")\n",
    "resultados = data.groupby(\"romantic\")[\"passed\"].apply(lambda x: (x == \"yes\").mean()).reset_index()\n",
    "\n",
    "#Renomear colunas\n",
    "resultados.columns = [\"romantic\", \"approval_rate\"]\n",
    "resultados[\"approval_rate\"] *= 100\n",
    "\n",
    "# Gráfico de barras\n",
    "sns.barplot(data=resultados, x=\"romantic\", y=\"approval_rate\")\n",
    "plt.title('Percentagem de Aprovação por Status Romântico')\n",
    "plt.ylabel(\"Taxa de Aprovação (%)\")\n",
    "plt.xlabel(\"\")\n",
    "plt.ylim(0, 100)\n",
    "\n",
    "# Display do valor de percentagem em cima de cada barra\n",
    "for index, row in resultados.iterrows():\n",
    "    plt.text(x=index, y=row[\"approval_rate\"] + 1, s=f'{row[\"approval_rate\"]:.2f}%', \n",
    "             ha='center', va='bottom')\n",
    "\n",
    "plt.show()\n"
   ]
  },
  {
   "cell_type": "markdown",
   "id": "d8ea1ab3",
   "metadata": {},
   "source": [
    "Observa-se uma diferença significativa na taxa de aprovação entre os grupos analisados, cerca de 10%. Isso sugere que o status romântico dos estudantes possui uma relação forte com a reprovação ou aprovação. Portanto, esta variável, isoladamente, parece ser um fator determinante no desempenho escolar.\n",
    "Assim, é possível concluir que o relacionamento, na idade jovem, na grande maioria, pode ter um efeito negativo nos estudos. Pode ser interessante implementar ações de sensibilização para minimizar este efeito negativo através de algumas campanhas. Como medidas concretas, recomendam-se:\n",
    "\n",
    "- **Sessões informativas ou workshops** sobre a gestão do tempo e a relação entre a vida pessoal e académica;\n",
    "\n",
    "- **Serviços de psicologia na escola**, onde é possível abordar a maturidade emocional e o impacto dos relacionamentos na concentração e motivação;\n",
    "\n",
    "- Integração dos **relacionamentos amorosos como tema nas aulas de Cidadania e Desenvolvimento**, promovendo a reflexão sobre as prioridades e a tomada de decisões conscientes.\n",
    "\n",
    "Estas iniciativas podem contribuir para que os estudantes desenvolvam uma maior consciência sobre os efeitos dos seus vínculos emocionais no contexto académico e adotem estratégias mais saudáveis para gerir os seus compromissos.\n",
    "\n",
    "---\n",
    "#### 4.3.3. Hipótese 3 - Apoio escolar\n",
    "Será examinada a relação entre a disponibilização de apoio escolar e a probabilidade de aprovação dos alunos."
   ]
  },
  {
   "cell_type": "code",
   "execution_count": 65,
   "id": "02338aad",
   "metadata": {},
   "outputs": [
    {
     "data": {
      "image/png": "[encoded data removed]",
      "text/plain": [
       "<Figure size 640x480 with 1 Axes>"
      ]
     },
     "metadata": {},
     "output_type": "display_data"
    }
   ],
   "source": [
    "# Agrupar os dados por apoio escolar e calcular a percentagem de aprovação (passed == \"yes\")\n",
    "resultados = data.groupby(\"schoolsup\")[\"passed\"].apply(lambda x: (x == \"yes\").mean()).reset_index()\n",
    "\n",
    "# Renomear colunas\n",
    "resultados.columns = [\"schoolsup\", \"approval_rate\"]\n",
    "resultados[\"approval_rate\"] *= 100  # converter para percentagem\n",
    "\n",
    "# Gráfico de barras\n",
    "sns.barplot(data=resultados, x=\"schoolsup\", y=\"approval_rate\")\n",
    "plt.title('Percentagem de Aprovação por Apoio Escolar')\n",
    "plt.ylabel(\"Taxa de Aprovação (%)\")\n",
    "plt.xlabel(\"Apoio Escolar (schoolsup)\")\n",
    "plt.ylim(0, 100)\n",
    "\n",
    "# Mostrar valores no topo das barras\n",
    "for index, row in resultados.iterrows():\n",
    "    plt.text(x=index, y=row[\"approval_rate\"] + 1, s=f'{row[\"approval_rate\"]:.2f}%', \n",
    "             ha='center', va='bottom')\n",
    "\n",
    "plt.show()"
   ]
  },
  {
   "cell_type": "markdown",
   "id": "cb1c19fb",
   "metadata": {},
   "source": [
    "Curiosamente, os dados revelam que os alunos que beneficiam de apoio escolar (‘schoolsup’) apresentam uma taxa de aprovação inferior (54,9%) àqueles que não recebem esse tipo de apoio (68,9%).\n",
    "\n",
    "Este resultado levanta questões importantes sobre a eficácia do apoio escolar atualmente implementado, sugerindo que ele pode não estar a cumprir plenamente o seu objetivo de promover o sucesso académico.\n",
    "\n",
    "Uma possível explicação é que o apoio escolar é frequentemente direcionado a alunos com maiores dificuldades, o que, por si só, pode influenciar negativamente os resultados.\n",
    "\n",
    "Contudo, a existência dessa diferença significativa de desempenho indica que o apoio prestado poderá estar a ser insuficiente, mal estruturado ou inadequado às necessidades reais dos estudantes.\n",
    "\n",
    "É recomendável uma reavaliação do modelo de apoio escolar adotado, apostando em intervenções mais personalizadas, com maior foco nas causas profundas do insucesso, e com monitorização contínua da sua eficácia.\n",
    "\n",
    "A eficácia do apoio escolar deve ser analisada em conjunto com outros fatores, como o contexto socioeconómico dos alunos, para garantir que as medidas de suporte são verdadeiramente equitativas e transformadoras.\n",
    "\n",
    "Face a estes dados, torna-se essencial que as instituições de ensino invistam não apenas na existência do apoio, mas na sua qualidade, continuidade e impacto mensurável no desempenho académico.\n",
    "\n",
    "- **Incentivo e ajuda** dos alunos que podem não encarar seriamente e desvalorizar estas ajudas valiosas deve ser reforçado e incentivado a bom uso desta ajuda;\n",
    "- **Criação de planos de acompanhamento individualizados**, integrando psicólogos, professores e encarregados de educação;\n",
    "- **Promoção de programas de mentoria entre pares**, onde alunos com bom desempenho apoiem colegas com dificuldades;\n",
    "- **Divulgação e sensibilização junto da comunidade escolar** sobre a existência e importância do apoio escolar.\n",
    "\n",
    "Estas iniciativas têm o potencial de não só melhorar o desempenho académico, como também promover o equilíbrio entre o acesso às oportunidades de sucesso escolares com os alunos em diferentes patamares de aprendizagem.\n",
    "\n",
    "---\n",
    "---"
   ]
  },
  {
   "cell_type": "markdown",
   "id": "e8e3517f",
   "metadata": {},
   "source": [
    "# 5. **Data Cleaning and Pre-processing**\n",
    "[[Voltar ao índice]](#índice)\n",
    "\n",
    "Antes da construção de qualquer modelo de previsão, é fundamental assegurar que os dados utilizados se encontram devidamente preparados. A qualidade e integridade dos dados têm um impacto direto na eficácia e robustez dos algoritmos de _Machine Learning_, sendo esta fase preliminar uma etapa crítica de todo o processo analítico.\n",
    "\n",
    "Neste sentido, procedeu-se a uma análise exploratória, com base nas informações recolhidas na etapa anterior. Por vezes, recorreu-se a uma segunda verificação para garantir a consistência dos valores e a ausência de anomalias ou incoerências nos registos. Este processo envolveu a uniformização de categorias e a transformação de variáveis sempre que necessário, assegurando que estas se encontravam no formato adequado para os métodos de aprendizagem automática.\n",
    "\n",
    "Já nesta fase, o objetivo principal é composto por duas partes:\n",
    "- Garantir a fiabilidade dos resultados que serão obtidos na etapa seguinte;\n",
    "- Aumentar o rigor das recomendações a apresentar à Direção da escola.\n",
    "A preparação cuidadosa dos dados contribui para que o modelo final seja não apenas tecnicamente robusto, mas também útil e interpretável no contexto da tomada de decisão educativa.\n",
    "\n",
    "---\n",
    "### 5.1. **Definição de Constantes**"
   ]
  },
  {
   "cell_type": "code",
   "execution_count": 66,
   "id": "7ea0881d",
   "metadata": {},
   "outputs": [],
   "source": [
    "RAND_STATE = 12\n",
    "TEST_SIZE = 0.1\n",
    "INPUT_FILE = 'student-data.csv' # Assuming this is your concatenated file with 'passed' column\n",
    "TRAIN_PROCESSED_FILE = 'train_processed.csv'\n",
    "TEST_PROCESSED_FILE = 'test_processed.csv'\n",
    "OUTPUT_DIR = 'data/processed/' # Define an output directory"
   ]
  },
  {
   "cell_type": "markdown",
   "id": "60eba013",
   "metadata": {},
   "source": [
    "Com o intuito de promover a clareza, organização e facilidade de implementação de funções/classes das bibliotecas `Scikit-Learn`, foram definidas, numa fase inicial, várias constantes essenciais que regulam o comportamento do processo de preparação e modelação dos dados.\n",
    "\n",
    "Entre estas, destaca-se a constante `TEST_SIZE`, que determina a proporção dos dados reservada para a fase de validação do modelo. Neste projeto, optou-se por utilizar 10% do total dos dados para esse fim, assegurando uma avaliação fiável do desempenho do classificador em dados não vistos.\n",
    "\n",
    "Adicionalmente, a constante `RAND_STATE` foi definida para garantir a capacidade de repetir os resultados. Através da fixação de uma semente aleatória, é possível garantir que a divisão entre conjuntos de treino e teste se mantém consistente em diferentes execuções do código, o que é essencial para a comparação objetiva de resultados e replicação do processo.\n",
    "\n",
    "Foram também definidos os nomes dos ficheiros de entrada e de saída, tanto para os dados brutos como para os dados já processados. Esta abordagem facilita a organização do pipeline de trabalho, promovendo boas práticas de programação e facilitando a manutenção e partilha do projeto entre diferentes utilizadores ou equipas.\n",
    "\n",
    "---\n",
    "### 5.2. **Preparação da Variável Alvo**"
   ]
  },
  {
   "cell_type": "code",
   "execution_count": 67,
   "id": "603a1521",
   "metadata": {},
   "outputs": [
    {
     "name": "stdout",
     "output_type": "stream",
     "text": [
      "Mapeando a coluna 'passed' para 'passed_mapped' (1 para 'yes', 0 para 'no').\n",
      "Variável alvo 'passed_mapped' pronta. Distribuição:\n",
      "passed_mapped\n",
      "1    0.670886\n",
      "0    0.329114\n",
      "Name: proportion, dtype: float64\n"
     ]
    }
   ],
   "source": [
    "if 'passed' in data.columns:\n",
    "    print(\"Mapeando a coluna 'passed' para 'passed_mapped' (1 para 'yes', 0 para 'no').\")\n",
    "    data['passed_mapped'] = data['passed'].map({'yes': 1, 'no': 0})\n",
    "    target_column_name = 'passed_mapped' # Nome da nossa coluna alvo numérica\n",
    "else:\n",
    "    print(\"Erro: A coluna 'passed' não foi encontrada no DataFrame 'data'. Não é possível definir o alvo.\")\n",
    "    exit() # Ou outra forma de tratamento de erro\n",
    "\n",
    "# Verificar se o mapeamento resultou em NaNs (caso 'passed' tivesse outros valores)\n",
    "if data[target_column_name].isnull().any():\n",
    "    print(f\"Atenção: Existem valores NaN na coluna '{target_column_name}' após o mapeamento.\")\n",
    "    print(f\"Valores únicos em 'passed' original: {data['passed'].unique()}\")\n",
    "    data.dropna(subset=[target_column_name], inplace=True)\n",
    "    print(f\"Linhas com '{target_column_name}' NaN removidas. Novo shape de 'data': {data.shape}\")\n",
    "\n",
    "y = data[target_column_name]\n",
    "print(f\"Variável alvo '{target_column_name}' pronta. Distribuição:\\n{y.value_counts(normalize=True)}\")\n"
   ]
  },
  {
   "cell_type": "markdown",
   "id": "1fe5c27d",
   "metadata": {},
   "source": [
    "Para que o modelo de _Machine Learning_ possa realizar previsões eficazes, é essencial que a variável alvo (\"_passed_\", com valores \"_yes_\" ou \"_no_\") se encontre num formato numérico. Assim, os valores categóricos desta variável foram mapeados para os valores 1 e 0, respetivamente, criando-se uma nova coluna designada por `passed_mapped`.\n",
    "\n",
    "Este processo permite que a variável esteja apta a ser interpretada pelos modelos de previsão, que apenas compreendem dados numéricos. Além disso, foram implementadas verificações adicionais para garantir a integridade do processo de conversão, nomeadamente:\n",
    "\n",
    "- Confirmação da existência da coluna _passed_ no conjunto de dados;\n",
    "\n",
    "- Tratamento de possíveis valores inválidos ou em falta, removendo linhas com valores nulos após o mapeamento;\n",
    "\n",
    "- Validação da distribuição da nova variável alvo, sendo que, após o mapeamento, observa-se uma distribuição aproximadamente composta por 67% de alunos aprovados (valor 1) e 33% de alunos reprovados (valor 0).\n",
    "\n",
    "Assim, garantir um pré-processamento rigoroso é fundamental para a qualidade das previsões que se pretendem obter mais adiante no projeto.\n",
    "\n",
    "---\n",
    "### 5.3. **Seleção de Features (X)**"
   ]
  },
  {
   "cell_type": "code",
   "execution_count": 68,
   "id": "663ee6ad",
   "metadata": {},
   "outputs": [
    {
     "name": "stdout",
     "output_type": "stream",
     "text": [
      "\n",
      "Features (X) criadas. Shape: (395, 30)\n",
      "\n",
      "Primeiras linhas de X:\n",
      "  school sex  age address famsize Pstatus  Medu  Fedu     Mjob      Fjob  ...  \\\n",
      "0     GP   F   18       U     GT3       A     4     4  at_home   teacher  ...   \n",
      "1     GP   F   17       U     GT3       T     1     1  at_home     other  ...   \n",
      "2     GP   F   15       U     LE3       T     1     1  at_home     other  ...   \n",
      "3     GP   F   15       U     GT3       T     4     2   health  services  ...   \n",
      "4     GP   F   16       U     GT3       T     3     3    other     other  ...   \n",
      "\n",
      "  higher internet  romantic  famrel  freetime goout Dalc Walc health absences  \n",
      "0    yes       no        no       4         3     4    1    1      3        6  \n",
      "1    yes      yes        no       5         3     3    1    1      3        4  \n",
      "2    yes      yes        no       4         3     2    2    3      3       10  \n",
      "3    yes      yes       yes       3         2     2    1    1      5        2  \n",
      "4    yes       no        no       4         3     2    1    2      5        4  \n",
      "\n",
      "[5 rows x 30 columns]\n",
      "\n",
      "Informações de X (tipos de dados das features):\n",
      "<class 'pandas.core.frame.DataFrame'>\n",
      "RangeIndex: 395 entries, 0 to 394\n",
      "Data columns (total 30 columns):\n",
      " #   Column      Non-Null Count  Dtype \n",
      "---  ------      --------------  ----- \n",
      " 0   school      395 non-null    object\n",
      " 1   sex         395 non-null    object\n",
      " 2   age         395 non-null    int64 \n",
      " 3   address     395 non-null    object\n",
      " 4   famsize     395 non-null    object\n",
      " 5   Pstatus     395 non-null    object\n",
      " 6   Medu        395 non-null    int64 \n",
      " 7   Fedu        395 non-null    int64 \n",
      " 8   Mjob        395 non-null    object\n",
      " 9   Fjob        395 non-null    object\n",
      " 10  reason      395 non-null    object\n",
      " 11  guardian    395 non-null    object\n",
      " 12  traveltime  395 non-null    int64 \n",
      " 13  studytime   395 non-null    int64 \n",
      " 14  failures    395 non-null    int64 \n",
      " 15  schoolsup   395 non-null    object\n",
      " 16  famsup      395 non-null    object\n",
      " 17  paid        395 non-null    object\n",
      " 18  activities  395 non-null    object\n",
      " 19  nursery     395 non-null    object\n",
      " 20  higher      395 non-null    object\n",
      " 21  internet    395 non-null    object\n",
      " 22  romantic    395 non-null    object\n",
      " 23  famrel      395 non-null    int64 \n",
      " 24  freetime    395 non-null    int64 \n",
      " 25  goout       395 non-null    int64 \n",
      " 26  Dalc        395 non-null    int64 \n",
      " 27  Walc        395 non-null    int64 \n",
      " 28  health      395 non-null    int64 \n",
      " 29  absences    395 non-null    int64 \n",
      "dtypes: int64(13), object(17)\n",
      "memory usage: 92.7+ KB\n"
     ]
    }
   ],
   "source": [
    "cols_to_drop_for_X = ['passed', target_column_name]\n",
    "\n",
    "# Garantir que estamos a tentar remover apenas colunas que de facto existem\n",
    "# (embora 'passed' e target_column_name devam existir neste ponto)\n",
    "actual_cols_to_drop_for_X = [col for col in cols_to_drop_for_X if col in data.columns]\n",
    "X = data.drop(columns=actual_cols_to_drop_for_X)\n",
    "\n",
    "print(f\"\\nFeatures (X) criadas. Shape: {X.shape}\")\n",
    "print(\"\\nPrimeiras linhas de X:\")\n",
    "print(X.head())\n",
    "print(\"\\nInformações de X (tipos de dados das features):\")\n",
    "X.info() # Descomentar para verificar os tipos de dados em X"
   ]
  },
  {
   "cell_type": "markdown",
   "id": "3d11190a",
   "metadata": {},
   "source": [
    "As _features_ (ou características) representam as diferentes informações sobre os alunos que serão utilizadas pelo modelo de _Machine Learning_ para aprender padrões e realizar previsões. Neste caso, foram selecionadas 30 variáveis descritivas, relacionadas com o perfil, hábitos e contexto dos estudantes.\n",
    "\n",
    "A variável `passed_mapped`, que indica se o aluno foi aprovado (1) ou não (0), foi separada das restantes variáveis. Desta forma, a nova variável X contém todos os atributos relevantes dos alunos sem incluir o resultado final, que constitui a variável alvo (y).\n",
    "\n",
    "Esta separação é fundamental para garantir que o modelo apenas aprenda a prever a aprovação, de acordo com as informações disponíveis antes do resultado final, assegurando a validade do processo preditivo.\n",
    "\n",
    "---\n",
    "### 5.4. **Identificação Automática de Tipos de Colunas para Processamento em X**"
   ]
  },
  {
   "cell_type": "code",
   "execution_count": 69,
   "id": "8e564466",
   "metadata": {},
   "outputs": [
    {
     "name": "stdout",
     "output_type": "stream",
     "text": [
      "\n",
      "Colunas numéricas identificadas em X para processamento: ['age', 'Medu', 'Fedu', 'traveltime', 'studytime', 'failures', 'famrel', 'freetime', 'goout', 'Dalc', 'Walc', 'health', 'absences']\n",
      "Colunas nominais identificadas em X para processamento: ['school', 'sex', 'address', 'famsize', 'Pstatus', 'Mjob', 'Fjob', 'reason', 'guardian', 'schoolsup', 'famsup', 'paid', 'activities', 'nursery', 'higher', 'internet', 'romantic']\n"
     ]
    }
   ],
   "source": [
    "numeric_cols_to_process = X.select_dtypes(include=np.number).columns.tolist()\n",
    "nominal_cols_to_process = X.select_dtypes(include='object').columns.tolist()\n",
    "print(f\"\\nColunas numéricas identificadas em X para processamento: {numeric_cols_to_process}\")\n",
    "print(f\"Colunas nominais identificadas em X para processamento: {nominal_cols_to_process}\")\n",
    "\n",
    "# Verificar se alguma coluna ficou de fora (não é numérica nem 'object')\n",
    "all_X_cols = X.columns.tolist()\n",
    "identified_cols = numeric_cols_to_process + nominal_cols_to_process\n",
    "unidentified_cols = [col for col in all_X_cols if col not in identified_cols]\n",
    "if unidentified_cols:\n",
    "    print(f\"ATENÇÃO: As seguintes colunas em X não foram classificadas como numéricas nem 'object': {unidentified_cols}\")\n",
    "    print(\"Estas colunas serão descartadas pelo ColumnTransformer se 'remainder' for 'drop'.\")"
   ]
  },
  {
   "cell_type": "markdown",
   "id": "2bf087f7",
   "metadata": {},
   "source": [
    "Como já foi referido anteriormente, as características dos alunos (variável X) incluem tanto variáveis numéricas, como a idade ou o número de faltas, como variáveis categóricas,como o género, a profissão dos encarregados de educação ou o acesso à internet em casa.\n",
    "\n",
    "Para que os algoritmos de _Machine Learning_ funcionem corretamente, é fundamental que cada tipo de dado seja tratado de forma adequada. Assim, foi realizada uma distinção automática entre colunas numéricas e colunas nominais, ou seja, com valores de texto, permitindo aplicar transformações específicas a cada tipo. Este passo é essencial para garantir que os dados estejam no formato ideal para o processo de modelação de previsões.\n",
    "\n",
    "---\n",
    "### 5.5. **Divisão dos Dados em Conjuntos de Treino e Teste**"
   ]
  },
  {
   "cell_type": "code",
   "execution_count": 70,
   "id": "ab1fe315",
   "metadata": {},
   "outputs": [
    {
     "name": "stdout",
     "output_type": "stream",
     "text": [
      "\n",
      "Dados divididos em treino e teste.\n",
      "X_train shape: (355, 30), y_train shape: (355,)\n",
      "X_test shape: (40, 30), y_test shape: (40,)\n"
     ]
    }
   ],
   "source": [
    "X_train, X_test, y_train, y_test = train_test_split(X, y, test_size=TEST_SIZE, random_state=RAND_STATE, shuffle=True, stratify=y)\n",
    "print(f\"\\nDados divididos em treino e teste.\")\n",
    "print(f\"X_train shape: {X_train.shape}, y_train shape: {y_train.shape}\")\n",
    "print(f\"X_test shape: {X_test.shape}, y_test shape: {y_test.shape}\")"
   ]
  },
  {
   "cell_type": "markdown",
   "id": "7a1fa4b2",
   "metadata": {},
   "source": [
    "Para garantir uma avaliação rigorosa e imparcial do desempenho do modelo de previsão, o _dataset_ foi dividido em dois subconjuntos distintos: 80% dos dados foram reservados para o treino do modelo, enquanto os 10% restantes foram utilizados para o teste. Esta abordagem permite simular o comportamento do modelo perante novos dados — ou seja, alunos que não “conheceu” durante o processo de aprendizagem.\n",
    "\n",
    "A divisão foi realizada com a opção de stratification com base na variável alvo (y), de forma a assegurar que a proporção entre alunos aprovados e reprovados se mantivesse equilibrada em ambos os subconjuntos. Esta técnica é especialmente relevante dado o ligeiro desequilíbrio presente nos dados originais, permitindo uma avaliação mais fiável e representativa da capacidade preditiva do modelo.\n",
    "\n",
    "---\n",
    "### 5.6. **Configuração do `ColumnTransformer`** "
   ]
  },
  {
   "cell_type": "code",
   "execution_count": 71,
   "id": "2280660a",
   "metadata": {},
   "outputs": [],
   "source": [
    "preprocessor = ColumnTransformer(\n",
    "    transformers=[\n",
    "        ('num', MinMaxScaler(), numeric_cols_to_process),\n",
    "        ('cat', OneHotEncoder(drop='if_binary', handle_unknown='ignore', sparse_output=False), nominal_cols_to_process)\n",
    "    ],\n",
    "    remainder='drop', # Descarta quaisquer colunas em X que não sejam numéricas ou 'object' (se houver)\n",
    "    n_jobs=-1\n",
    ")"
   ]
  },
  {
   "cell_type": "markdown",
   "id": "1c56cde8",
   "metadata": {},
   "source": [
    "Foi configurado um pipeline de pré-processamento utilizando a ferramenta `ColumnTransformer`, com o objetivo de automatizar e padronizar as transformações necessárias consoante o tipo de variável presente no conjunto de dados.\n",
    "\n",
    "Para as variáveis numéricas, foi aplicado o `MinMaxScaler`, que transforma os valores para um intervalo entre 0 e 1. Esta normalização é essencial, uma vez que muitos algoritmos de _Machine Learning_ são sensíveis à escala dos dados e funcionam de forma mais eficiente quando todas as variáveis se encontram numa escala semelhante.\n",
    "\n",
    "Já para as variáveis categóricas nominais, ou textuais, foi utilizado o `OneHotEncoder`, que converte essas categorias em representações numéricas binárias, tornando-as compatíveis com os algoritmos de aprendizagem automática. Por exemplo, a variável \"sex\", originalmente com os valores 'F' e 'M', será transformada em duas colunas (sex_F e sex_M) contendo os valores 0 ou 1. Para evitar redundâncias em variáveis binárias, foi utilizada a opção drop='if_binary', que elimina uma das colunas geradas automaticamente nesses casos, mantendo a informação completa e otimizando a representação dos dados.\n",
    "\n",
    "Esta abordagem estruturada garante que todas as transformações são aplicadas de forma consistente e integrada, preparando os dados adequadamente para o treino do modelo.\n",
    "\n",
    "---\n",
    "### 5.7. **Aplicação das Transformações**"
   ]
  },
  {
   "cell_type": "code",
   "execution_count": 72,
   "id": "0cc83acf",
   "metadata": {},
   "outputs": [
    {
     "name": "stdout",
     "output_type": "stream",
     "text": [
      "\n",
      "Aplicando transformações de pré-processamento...\n",
      "Transformações aplicadas.\n"
     ]
    }
   ],
   "source": [
    "print(\"\\nAplicando transformações de pré-processamento...\")\n",
    "X_train_processed = preprocessor.fit_transform(X_train)\n",
    "X_test_processed = preprocessor.transform(X_test)\n",
    "print(\"Transformações aplicadas.\")"
   ]
  },
  {
   "cell_type": "markdown",
   "id": "64761042",
   "metadata": {},
   "source": [
    "Após aplicar as transformações configuradas aos dados, é essencial garantir que todo o processo seja conduzido de forma rigorosa e metodológica. As transformações, como a normalização das variáveis numéricas com o `MinMaxScaler` e a codificação das variáveis categóricas com o `OneHotEncoder`, foram ajustadas apenas com base no conjunto de treino (fit_transform). Desta forma, evita-se a introdução de qualquer tipo de informação do conjunto de teste durante a fase de treino, preservando a imparcialidade da avaliação.\n",
    "\n",
    "Em seguida, as mesmas transformações já aprendidas foram aplicadas ao conjunto de teste (transform), assegurando a coerência entre ambos os conjuntos. Esta separação é fundamental para que a avaliação do modelo reflicta fielmente o seu desempenho em novos dados, permitindo uma análise realista da sua capacidade preditiva em cenários futuros.\n",
    "\n",
    "---\n",
    "### 5.8. **Reconstrução dos DataFrames Processados**"
   ]
  },
  {
   "cell_type": "code",
   "execution_count": 73,
   "id": "af72bfde",
   "metadata": {},
   "outputs": [
    {
     "name": "stdout",
     "output_type": "stream",
     "text": [
      "\n",
      "DataFrames processados reconstruídos.\n",
      "Shape do treino processado: (355, 44)\n",
      "Shape do teste processado: (40, 44)\n"
     ]
    }
   ],
   "source": [
    "try:\n",
    "    nominal_col_names_processed = preprocessor.named_transformers_['cat'].get_feature_names_out(nominal_cols_to_process)\n",
    "except AttributeError:\n",
    "    nominal_col_names_processed = preprocessor.named_transformers_['cat'].get_feature_names(nominal_cols_to_process)\n",
    "\n",
    "# Nomes finais das colunas na ordem correta\n",
    "final_feature_names = numeric_cols_to_process + list(nominal_col_names_processed)\n",
    "\n",
    "# Criar DataFrames processados\n",
    "train_df_processed = pd.DataFrame(X_train_processed, columns=final_feature_names, index=X_train.index)\n",
    "train_df_processed[target_column_name] = y_train\n",
    "\n",
    "test_df_processed = pd.DataFrame(X_test_processed, columns=final_feature_names, index=X_test.index)\n",
    "test_df_processed[target_column_name] = y_test\n",
    "\n",
    "print(f\"\\nDataFrames processados reconstruídos.\")\n",
    "print(f\"Shape do treino processado: {train_df_processed.shape}\")\n",
    "print(f\"Shape do teste processado: {test_df_processed.shape}\")\n",
    "# print(\"\\nPrimeiras 5 linhas dos dados de treino processados:\")\n",
    "# print(train_df_processed.head())\n"
   ]
  },
  {
   "cell_type": "markdown",
   "id": "ee0f4097",
   "metadata": {},
   "source": [
    "Após as transformações, os dados estão agora num formato numérico pronto para o Machine Learning. Reorganizamos estes dados transformados de volta em DataFrames pandas (train_df_processed e test_df_processed) com os nomes corretos para cada feature (incluindo as novas colunas criadas pelo One-Hot Encoding). Adicionamos a variável alvo (passed_mapped) de volta a estes DataFrames para facilitar a próxima etapa.\n",
    "\n",
    "\n",
    "Após as transformações, os dados encontram-se agora num formato numérico adequado para os algoritmos de _Machine Learning_. Para facilitar a manipulação e interpretação futura, os dados transformados foram reorganizados sob a forma de _DataFrames_ do pandas (`train_df_processed` e `test_df_processed`) com os nomes corretos atribuídos a cada _feature_, incluindo as novas colunas geradas durante o processo de One-Hot Encoding.\n",
    "\n",
    "Além disso, a variável alvo (passed_mapped) foi reintegrada em ambos os conjuntos, garantindo que os dados estejam prontos para a fase seguinte de modelação de previsão. Esta estrutura organizada permite um acompanhamento mais claro de cada observação e facilita, tanto a análise exploratória, como a avaliação dos resultados dos modelos.\n",
    "\n",
    "---\n",
    "### 5.9. **Armazenamento dos Dados Processados**"
   ]
  },
  {
   "cell_type": "code",
   "execution_count": 74,
   "id": "50889469",
   "metadata": {},
   "outputs": [
    {
     "name": "stdout",
     "output_type": "stream",
     "text": [
      "\n",
      "Dados processados guardados em:\n",
      "Treino: data/processed/train_processed.csv\n",
      "Teste: data/processed/test_processed.csv\n"
     ]
    }
   ],
   "source": [
    "os.makedirs(OUTPUT_DIR, exist_ok=True)\n",
    "\n",
    "train_path = os.path.join(OUTPUT_DIR, TRAIN_PROCESSED_FILE)\n",
    "test_path = os.path.join(OUTPUT_DIR, TEST_PROCESSED_FILE)\n",
    "\n",
    "train_df_processed.to_csv(train_path, index=False)\n",
    "test_df_processed.to_csv(test_path, index=False)\n",
    "\n",
    "print(f\"\\nDados processados guardados em:\")\n",
    "print(f\"Treino: {train_path}\")\n",
    "print(f\"Teste: {test_path}\")\n"
   ]
  },
  {
   "cell_type": "markdown",
   "id": "6adbe952",
   "metadata": {},
   "source": [
    "Por fim, os conjuntos de de dados treino e teste já pré-processados foram guardados em ficheiros CSV distintos. Esta etapa tem como objetivo facilitar futuras análises e testes, permitindo que os dados sejam carregados diretamente para a fase de modelação, sem necessidade de repetir todo o processo de limpeza e transformação.\n",
    "\n",
    "Ao manter estes ficheiros organizados e prontos para uso, asseguramos maior eficiência, consistência e facilidade de repetição ao longo do desenvolvimento do sistema de previsão. Esta prática é especialmente útil quando se pretende testar diferentes algoritmos ou ajustar parâmetros, uma vez que garante que os dados utilizados permanecem sempre os mesmos em todas as tentativas.\n",
    "\n",
    "---\n",
    "---"
   ]
  },
  {
   "cell_type": "markdown",
   "id": "6e80b6db",
   "metadata": {},
   "source": [
    "# 6. **Data Modeling (Supervised Learning)**\n",
    "[[Voltar ao índice]](#índice)\n",
    "\n",
    "Concluído o pré-processamento dos dados, procede-se à fase de modelação, recorrendo a algoritmos de aprendizagem supervisionada. Este paradigma de aprendizagem automática baseia-se na utilização de um conjunto de dados identificados, onde as variáveis explicativas (_features_) estão associadas a um resultado conhecido (variável alvo), permitindo ao modelo aprender as relações subjacentes entre os atributos e os resultados esperados.\n",
    "\n",
    "A finalidade desta etapa consiste na construção de modelos de previsão capazes de generalizar o conhecimento adquirido e realizar previsões fiáveis sobre novos dados. Para tal, serão aplicados e comparados diferentes algoritmos, avaliando-se o seu desempenho com base em métricas adequadas, assegurando uma análise rigorosa e a seleção da abordagem mais eficaz para o problema em estudo.\n",
    "\n",
    "---\n",
    "### 6.1. **Definição de Constantes e Carregamento dos Dados Processados**"
   ]
  },
  {
   "cell_type": "code",
   "execution_count": 75,
   "id": "2b4082e4",
   "metadata": {},
   "outputs": [
    {
     "name": "stdout",
     "output_type": "stream",
     "text": [
      "Shape do treino carregado: (355, 44)\n",
      "Shape do teste carregado: (40, 44)\n",
      "\n",
      "Primeiras linhas do treino:\n",
      "        age  Medu  Fedu  traveltime  studytime  failures  famrel  freetime  \\\n",
      "0  0.428571  0.50  0.25    0.333333   0.666667       0.0    0.75      0.75   \n",
      "1  0.000000  0.50  0.50    0.333333   0.333333       0.0    0.75      0.00   \n",
      "2  0.428571  1.00  1.00    0.666667   0.333333       0.0    0.50      0.25   \n",
      "3  0.285714  0.25  0.50    0.333333   0.333333       0.0    0.75      0.75   \n",
      "4  0.428571  1.00  0.75    0.000000   0.333333       0.0    0.75      0.50   \n",
      "\n",
      "   goout  Dalc  ...  guardian_other  schoolsup_yes  famsup_yes  paid_yes  \\\n",
      "0   0.75  0.00  ...             1.0            0.0         1.0       1.0   \n",
      "1   0.50  0.00  ...             0.0            1.0         1.0       1.0   \n",
      "2   0.25  0.75  ...             0.0            0.0         1.0       1.0   \n",
      "3   0.75  0.75  ...             1.0            0.0         0.0       1.0   \n",
      "4   0.25  0.00  ...             0.0            0.0         1.0       1.0   \n",
      "\n",
      "   activities_yes  nursery_yes  higher_yes  internet_yes  romantic_yes  \\\n",
      "0             0.0          0.0         1.0           1.0           1.0   \n",
      "1             0.0          1.0         1.0           1.0           0.0   \n",
      "2             0.0          0.0         1.0           1.0           1.0   \n",
      "3             1.0          0.0         1.0           1.0           0.0   \n",
      "4             0.0          0.0         1.0           1.0           0.0   \n",
      "\n",
      "   passed_mapped  \n",
      "0              0  \n",
      "1              0  \n",
      "2              1  \n",
      "3              0  \n",
      "4              0  \n",
      "\n",
      "[5 rows x 44 columns]\n"
     ]
    }
   ],
   "source": [
    "RAND_STATE = 12\n",
    "TRAIN_PROCESSED_FILE = 'data/processed/train_processed.csv' # Ajusta o nome se necessário\n",
    "TEST_PROCESSED_FILE = 'data/processed/test_processed.csv'  # Ajusta o nome se necessário\n",
    "TARGET_COLUMN = 'passed_mapped' # O nome da tua coluna alvo\n",
    "\n",
    "# %%\n",
    "# Carregar os dados processados\n",
    "try:\n",
    "    train_df = pd.read_csv(TRAIN_PROCESSED_FILE)\n",
    "    test_df = pd.read_csv(TEST_PROCESSED_FILE)\n",
    "except FileNotFoundError:\n",
    "    print(f\"Erro: Ficheiros processados não encontrados. Executa o notebook de pré-processamento primeiro.\")\n",
    "    # Para demonstração, vamos criar dataframes vazios ou sair\n",
    "    exit()\n",
    "\n",
    "print(f\"Shape do treino carregado: {train_df.shape}\")\n",
    "print(f\"Shape do teste carregado: {test_df.shape}\")\n",
    "print(\"\\nPrimeiras linhas do treino:\")\n",
    "print(train_df.head())"
   ]
  },
  {
   "cell_type": "markdown",
   "id": "c909785c",
   "metadata": {},
   "source": [
    "---\n",
    "### 6.2. **Preparação dos Conjuntos de Treino e Teste (X, y)**"
   ]
  },
  {
   "cell_type": "code",
   "execution_count": 76,
   "id": "693f9375",
   "metadata": {},
   "outputs": [
    {
     "name": "stdout",
     "output_type": "stream",
     "text": [
      "\n",
      "Shapes após separação X, y:\n",
      "X_train: (355, 43), y_train: (355,)\n",
      "X_test: (40, 43), y_test: (40,)\n",
      "\n",
      "Distribuição da variável alvo no treino:\n",
      "passed_mapped\n",
      "1    0.670423\n",
      "0    0.329577\n",
      "Name: proportion, dtype: float64\n",
      "Distribuição da variável alvo no teste:\n",
      "passed_mapped\n",
      "1    0.675\n",
      "0    0.325\n",
      "Name: proportion, dtype: float64\n"
     ]
    }
   ],
   "source": [
    "if TARGET_COLUMN not in train_df.columns or TARGET_COLUMN not in test_df.columns:\n",
    "    print(f\"Erro: A coluna alvo '{TARGET_COLUMN}' não foi encontrada nos DataFrames carregados.\")\n",
    "    exit()\n",
    "\n",
    "X_train = train_df.drop(columns=[TARGET_COLUMN])\n",
    "y_train = train_df[TARGET_COLUMN]\n",
    "\n",
    "X_test = test_df.drop(columns=[TARGET_COLUMN])\n",
    "y_test = test_df[TARGET_COLUMN]\n",
    "\n",
    "print(f\"\\nShapes após separação X, y:\")\n",
    "print(f\"X_train: {X_train.shape}, y_train: {y_train.shape}\")\n",
    "print(f\"X_test: {X_test.shape}, y_test: {y_test.shape}\")\n",
    "print(f\"\\nDistribuição da variável alvo no treino:\\n{y_train.value_counts(normalize=True)}\")\n",
    "print(f\"Distribuição da variável alvo no teste:\\n{y_test.value_counts(normalize=True)}\")"
   ]
  },
  {
   "cell_type": "markdown",
   "id": "fc65d9b3",
   "metadata": {},
   "source": [
    "---\n",
    "### 6.3. **Definição da Função de Avaliação e Baseline**"
   ]
  },
  {
   "cell_type": "code",
   "execution_count": 77,
   "id": "b06a7c5e",
   "metadata": {},
   "outputs": [
    {
     "name": "stdout",
     "output_type": "stream",
     "text": [
      "Classe maioritária no treino: 1\n",
      "\n",
      "--- Avaliação do Modelo: Baseline (Classe Maioritária) ---\n",
      "  Acurácia:  0.6750\n",
      "  Precisão:  0.6750\n",
      "  Recall:    1.0000\n",
      "  F1-Score:  0.8060\n",
      "  AUC ROC:   0.5000\n",
      "\n",
      "  Matriz de Confusão:\n"
     ]
    },
    {
     "data": {
      "image/png": "[encoded data removed]",
      "text/plain": [
       "<Figure size 640x480 with 2 Axes>"
      ]
     },
     "metadata": {},
     "output_type": "display_data"
    },
    {
     "name": "stdout",
     "output_type": "stream",
     "text": [
      "\n",
      "  Relatório de Classificação:\n",
      "              precision    recall  f1-score   support\n",
      "\n",
      "           0       0.00      0.00      0.00        13\n",
      "           1       0.68      1.00      0.81        27\n",
      "\n",
      "    accuracy                           0.68        40\n",
      "   macro avg       0.34      0.50      0.40        40\n",
      "weighted avg       0.46      0.68      0.54        40\n",
      "\n"
     ]
    }
   ],
   "source": [
    "def evaluate_classification_model(model_name, y_true, y_pred, y_proba=None):\n",
    "    accuracy = accuracy_score(y_true, y_pred)\n",
    "    precision = precision_score(y_true, y_pred, zero_division=0)\n",
    "    recall = recall_score(y_true, y_pred, zero_division=0)\n",
    "    f1 = f1_score(y_true, y_pred, zero_division=0)\n",
    "    roc_auc = roc_auc_score(y_true, y_proba[:, 1]) if y_proba is not None else None\n",
    "\n",
    "    print(f\"\\n--- Avaliação do Modelo: {model_name} ---\")\n",
    "    print(f\"  Acurácia:  {accuracy:.4f}\")\n",
    "    print(f\"  Precisão:  {precision:.4f}\")\n",
    "    print(f\"  Recall:    {recall:.4f}\")\n",
    "    print(f\"  F1-Score:  {f1:.4f}\")\n",
    "    if roc_auc is not None:\n",
    "        print(f\"  AUC ROC:   {roc_auc:.4f}\")\n",
    "\n",
    "    print(\"\\n  Matriz de Confusão:\")\n",
    "    cm = confusion_matrix(y_true, y_pred)\n",
    "    disp = ConfusionMatrixDisplay(confusion_matrix=cm)\n",
    "    disp.plot(cmap=plt.cm.Blues)\n",
    "    plt.title(f'Matriz de Confusão - {model_name}')\n",
    "    plt.show()\n",
    "\n",
    "    print(\"\\n  Relatório de Classificação:\")\n",
    "    print(classification_report(y_true, y_pred, zero_division=0))\n",
    "    \n",
    "    metrics = {\n",
    "        'accuracy': accuracy, 'precision': precision, 'recall': recall, 'f1': f1, 'roc_auc': roc_auc\n",
    "    }\n",
    "    return metrics, cm\n",
    "#Baseline: \"Prever sempre a classe maioritária (assumindo que '1' - passou - é a maioritária\"\n",
    "majority_class = y_train.mode()[0]\n",
    "baseline_predictions = np.full_like(y_test, fill_value=majority_class)\n",
    "baseline_proba = np.zeros((len(y_test), 2)) # Para AUC ROC (probabilidades \"falsas\")\n",
    "if majority_class == 1:\n",
    "    baseline_proba[:,1] = 1.0\n",
    "else:\n",
    "    baseline_proba[:,0] = 1.0\n",
    "\n",
    "print(f\"Classe maioritária no treino: {majority_class}\")\n",
    "baseline_metrics, _ = evaluate_classification_model(\"Baseline (Classe Maioritária)\", y_test, baseline_predictions, baseline_proba)\n"
   ]
  },
  {
   "cell_type": "markdown",
   "id": "25eafd8f",
   "metadata": {},
   "source": [
    "Para verificar a qualidade do sistema de previsão desenvolvido, é fundamental definir métricas de avaliação adequadas ao objetivo do problema. Neste caso, mais do que simplesmente atingir uma elevada acurácia (proporção global de previsões corretas), importa sobretudo identificar com precisão os alunos em risco de reprovação, de forma a permitir uma intervenção atempada e eficaz.\n",
    "\n",
    "Assim, foram consideradas as seguintes métricas de desempenho:\n",
    "\n",
    "- **Recall** (Sensibilidade): mede a proporção de alunos que efetivamente reprovaram e que foram corretamente identificados pelo modelo. Esta métrica é prioritária, uma vez que um alto valor indicaria que muitos casos de risco estão a ser \"esquecidos\".\n",
    "\n",
    "- **Precision** (Precisão): avalia a proporção de previsões de reprovação que correspondem, de facto, a alunos que não obtiveram aprovação. Uma precisão elevada reduz o número de falsos positivos, evitando alarmes injustificados e o uso indevido de recursos.\n",
    "\n",
    "- **F1-Score**: representa combinação entre Recall e Precision, oferecendo uma métrica equilibrada entre estes dois aspetos.\n",
    "\n",
    "- **AUC ROC** (Área sob a Curva ROC): indica a capacidade do modelo distinguir entre alunos aprovados e reprovados, independentemente do limiar de decisão. Valores próximos de 1 correspondem a uma excelente capacidade discriminativa.\n",
    "\n",
    "Adicionalmente, definiu-se uma _Baseline_ (linha de base) para efeitos comparativos. Esta _baseline_ corresponde a um modelo que prevê unicamente a classe mais frequente, neste caso, \"Aprovado\". Embora tal abordagem produza uma acurácia aparentemente elevada, falha completamente na identificação de casos de reprovação, apresentando um Recall nulo para essa classe. A matriz de confusão associada à _baseline_ ilustra este cenário-limite, servindo de referência mínima a ultrapassar por qualquer modelo preditivo viável.\n",
    "\n",
    "---\n",
    "### 6.4. **Experimentação Inicial com Diferentes Algoritmos (Validação Cruzada no Treino)**\n",
    "\n",
    "Nesta fase, foi usado `cross_val_score` no conjunto de treino (`X_train`, `y_train`) para obter uma estimativa mais robusta da performance de cada algoritmo com os seus parâmetros padrão. Posteriormente, será utilizada `StratifiedKFold` devido ao ligeiro desequilíbrio de classes."
   ]
  },
  {
   "cell_type": "code",
   "execution_count": 78,
   "id": "e359d49b",
   "metadata": {},
   "outputs": [
    {
     "name": "stdout",
     "output_type": "stream",
     "text": [
      "Regressão Logística: Média F1 (CV) = 0.7914 (+/- 0.0449)\n",
      "KNN: Média F1 (CV) = 0.7577 (+/- 0.0467)\n",
      "Árvore de Decisão: Média F1 (CV) = 0.6761 (+/- 0.0333)\n",
      "Random Forest: Média F1 (CV) = 0.7917 (+/- 0.0602)\n",
      "SVM: Média F1 (CV) = 0.8095 (+/- 0.0189)\n",
      "Gradient Boosting: Média F1 (CV) = 0.7719 (+/- 0.0426)\n",
      "AdaBoost: Média F1 (CV) = 0.7952 (+/- 0.0373)\n"
     ]
    }
   ],
   "source": [
    "models = {\n",
    "    \"Regressão Logística\": LogisticRegression(random_state=RAND_STATE, max_iter=1000),\n",
    "    \"KNN\": KNeighborsClassifier(),\n",
    "    \"Árvore de Decisão\": DecisionTreeClassifier(random_state=RAND_STATE),\n",
    "    \"Random Forest\": RandomForestClassifier(random_state=RAND_STATE),\n",
    "    \"SVM\": SVC(probability=True, random_state=RAND_STATE), # probability=True para AUC ROC\n",
    "    \"Gradient Boosting\": GradientBoostingClassifier(random_state=RAND_STATE),\n",
    "    \"AdaBoost\": AdaBoostClassifier(random_state=RAND_STATE)\n",
    "    # \"XGBoost\": xgb.XGBClassifier(random_state=RAND_STATE, use_label_encoder=False, eval_metric='logloss') # Descomentar se instalado\n",
    "}\n",
    "\n",
    "cv_strategy = StratifiedKFold(n_splits=5, shuffle=True, random_state=RAND_STATE)\n",
    "scoring_metric = 'f1' # Podemos focar no F1-score devido ao desequilíbrio\n",
    "\n",
    "results_cv = {}\n",
    "\n",
    "for name, model in models.items():\n",
    "    # Nota: Se o pré-processamento já incluiu escalonamento e one-hot encoding,\n",
    "    # e X_train é o resultado disso, não precisamos de ColumnTransformer aqui.\n",
    "    # Se X_train fossem os dados ANTES dessas etapas, usaríamos um Pipeline:\n",
    "    # pipeline = Pipeline(steps=[('preprocessor', preprocessor_do_teu_notebook_anterior), ('classifier', model)])\n",
    "    # Mas como X_train já está processado, podemos usar o modelo diretamente.\n",
    "    # No entanto, para modelos como KNN e SVM que são sensíveis à escala, se X_train não foi escalado\n",
    "    # (o que parece ter sido, dado o ColumnTransformer no pré-processamento), precisaríamos de um StandardScaler aqui.\n",
    "    # Assumindo que X_train JÁ ESTÁ escalado:\n",
    "    \n",
    "    cv_scores = cross_val_score(model, X_train, y_train, cv=cv_strategy, scoring=scoring_metric)\n",
    "    results_cv[name] = cv_scores\n",
    "    print(f\"{name}: Média {scoring_metric.upper()} (CV) = {cv_scores.mean():.4f} (+/- {cv_scores.std():.4f})\")\n"
   ]
  },
  {
   "cell_type": "markdown",
   "id": "a8e22f63",
   "metadata": {},
   "source": [
    "Existem diversos algoritmos de aprendizagem automática supervisionada adequados a tarefas de classificação. Cada algoritmo adota diferentes estratégias para aprender padrões a partir dos dados e realizar previsões. Nesta fase do projeto, foram avaliados alguns dos métodos mais comuns, com o objetivo de identificar os mais promissores para o problema em análise:\n",
    "\n",
    "- **Regressão Logística**: algoritmo linear simples e eficiente, que tenta encontrar uma relação linear para separar as classes.\n",
    "\n",
    "- **K-Nearest Neighbors** (KNN): classificador baseado em instâncias, que atribui a classe a uma nova observação com base nas classes dos exemplos mais semelhantes (vizinhos mais próximos) no conjunto de treino.\n",
    "\n",
    "- **Árvore de Decisão e Floresta Aleatória** (Random Forest): métodos baseados em estruturas hierárquicas de decisão. A árvore de decisão utiliza regras de divisão sucessivas para classificar os dados, enquanto a floresta aleatória agrega os resultados de múltiplas árvores construídas com subconjuntos aleatórios dos dados, aumentando a robustez e reduzindo o risco de sobreajuste.\n",
    "\n",
    "- **Gradient Boosting e AdaBoost**: técnicas que constroem mosdelos de forma sequencial, cada um focado em corrigir os erros do anterior. São algoritmos particularmente eficazes em tarefas complexas, embora mais exigentes computacionalmente.\n",
    "\n",
    "- **Support Vector Machines** (SVM): método que procura o \"melhor limite\" para aa separação entre as classes, sendo eficaz mesmo em espaços de alta dimensionalidade.\n",
    "\n",
    "Para avaliar o desempenho de cada algoritmo, foi utilizada a técnica de validação cruzada no conjunto de treino. Este procedimento consiste em dividir os dados de treino em vários subconjuntos (neste caso, 5 partes), treinando e avaliando o modelo 5 vezes, cada vez com uma partição diferente como subconjunto de validação. A média do F1-score nas 5 vezes fornece uma estimativa mais robusta e generalizável do desempenho do modelo, evitando o sobreajuste e preservando o conjunto de teste para a avaliação final.\n",
    "\n",
    "---\n",
    "### 6.5. **Seleção dos Modelos Mais Promissores e Treino/Avaliação no Conjunto de Teste**\n",
    " Com base nos resultados da validação cruzada, foram selecionados, por exemplo, os 3 melhores modelos para treinar no `X_train` completo e avaliar no `X_test`."
   ]
  },
  {
   "cell_type": "code",
   "execution_count": 79,
   "id": "85d84926",
   "metadata": {},
   "outputs": [
    {
     "name": "stdout",
     "output_type": "stream",
     "text": [
      "\n",
      "Modelos ordenados por performance na Validação Cruzada (F1-score):\n",
      "SVM: Média F1 (CV) = 0.8095\n",
      "AdaBoost: Média F1 (CV) = 0.7952\n",
      "Random Forest: Média F1 (CV) = 0.7917\n",
      "Regressão Logística: Média F1 (CV) = 0.7914\n",
      "Gradient Boosting: Média F1 (CV) = 0.7719\n",
      "KNN: Média F1 (CV) = 0.7577\n",
      "Árvore de Decisão: Média F1 (CV) = 0.6761\n",
      "\n",
      "Selecionando os 3 melhores modelos para avaliação no teste: ['SVM', 'AdaBoost', 'Random Forest']\n",
      "\n",
      "--- Avaliação do Modelo: SVM ---\n",
      "  Acurácia:  0.7000\n",
      "  Precisão:  0.6923\n",
      "  Recall:    1.0000\n",
      "  F1-Score:  0.8182\n",
      "  AUC ROC:   0.5926\n",
      "\n",
      "  Matriz de Confusão:\n"
     ]
    },
    {
     "data": {
      "image/png": "[encoded data removed]",
      "text/plain": [
       "<Figure size 640x480 with 2 Axes>"
      ]
     },
     "metadata": {},
     "output_type": "display_data"
    },
    {
     "name": "stdout",
     "output_type": "stream",
     "text": [
      "\n",
      "  Relatório de Classificação:\n",
      "              precision    recall  f1-score   support\n",
      "\n",
      "           0       1.00      0.08      0.14        13\n",
      "           1       0.69      1.00      0.82        27\n",
      "\n",
      "    accuracy                           0.70        40\n",
      "   macro avg       0.85      0.54      0.48        40\n",
      "weighted avg       0.79      0.70      0.60        40\n",
      "\n",
      "\n",
      "--- Avaliação do Modelo: AdaBoost ---\n",
      "  Acurácia:  0.7250\n",
      "  Precisão:  0.7222\n",
      "  Recall:    0.9630\n",
      "  F1-Score:  0.8254\n",
      "  AUC ROC:   0.6695\n",
      "\n",
      "  Matriz de Confusão:\n"
     ]
    },
    {
     "data": {
      "image/png": "[encoded data removed]",
      "text/plain": [
       "<Figure size 640x480 with 2 Axes>"
      ]
     },
     "metadata": {},
     "output_type": "display_data"
    },
    {
     "name": "stdout",
     "output_type": "stream",
     "text": [
      "\n",
      "  Relatório de Classificação:\n",
      "              precision    recall  f1-score   support\n",
      "\n",
      "           0       0.75      0.23      0.35        13\n",
      "           1       0.72      0.96      0.83        27\n",
      "\n",
      "    accuracy                           0.72        40\n",
      "   macro avg       0.74      0.60      0.59        40\n",
      "weighted avg       0.73      0.72      0.67        40\n",
      "\n",
      "\n",
      "--- Avaliação do Modelo: Random Forest ---\n",
      "  Acurácia:  0.7000\n",
      "  Precisão:  0.7027\n",
      "  Recall:    0.9630\n",
      "  F1-Score:  0.8125\n",
      "  AUC ROC:   0.5442\n",
      "\n",
      "  Matriz de Confusão:\n"
     ]
    },
    {
     "data": {
      "image/png": "[encoded data removed]",
      "text/plain": [
       "<Figure size 640x480 with 2 Axes>"
      ]
     },
     "metadata": {},
     "output_type": "display_data"
    },
    {
     "name": "stdout",
     "output_type": "stream",
     "text": [
      "\n",
      "  Relatório de Classificação:\n",
      "              precision    recall  f1-score   support\n",
      "\n",
      "           0       0.67      0.15      0.25        13\n",
      "           1       0.70      0.96      0.81        27\n",
      "\n",
      "    accuracy                           0.70        40\n",
      "   macro avg       0.68      0.56      0.53        40\n",
      "weighted avg       0.69      0.70      0.63        40\n",
      "\n"
     ]
    }
   ],
   "source": [
    "sorted_models_cv = sorted(results_cv.items(), key=lambda item: item[1].mean(), reverse=True)\n",
    "print(\"\\nModelos ordenados por performance na Validação Cruzada (F1-score):\")\n",
    "for name, scores in sorted_models_cv:\n",
    "    print(f\"{name}: Média F1 (CV) = {scores.mean():.4f}\")\n",
    "\n",
    "# Selecionar os N melhores (e.g., N=3)\n",
    "top_n = 3\n",
    "best_model_names = [name for name, _ in sorted_models_cv[:top_n]]\n",
    "print(f\"\\nSelecionando os {top_n} melhores modelos para avaliação no teste: {best_model_names}\")\n",
    "\n",
    "test_set_metrics = {}\n",
    "trained_models = {}\n",
    "\n",
    "for name in best_model_names:\n",
    "    model = models[name] # Pega o modelo com parâmetros padrão\n",
    "    model.fit(X_train, y_train)\n",
    "    \n",
    "    y_pred_test = model.predict(X_test)\n",
    "    y_proba_test = None\n",
    "    if hasattr(model, \"predict_proba\"):\n",
    "        y_proba_test = model.predict_proba(X_test)\n",
    "        \n",
    "    metrics, _ = evaluate_classification_model(name, y_test, y_pred_test, y_proba_test)\n",
    "    test_set_metrics[name] = metrics\n",
    "    trained_models[name] = model # Guardar o modelo treinado\n"
   ]
  },
  {
   "cell_type": "markdown",
   "id": "b4aeeab6",
   "metadata": {},
   "source": [
    "#### _Avaliação Final dos Modelos Selecionados no Conjunto de Teste_\n",
    "Com base nos resultados obtidos durante a fase de validação cruzada, foram selecionados os três modelos com melhor desempenho para uma avaliação final e decisiva. Esta avaliação foi realizada sobre o conjunto de teste, que representa 10% dos dados originais e que se manteve isolado durante todo o processo de treino e validação. O objetivo desta fase é estimar, de forma realista, o comportamento do sistema de previsão quando aplicado a novos alunos, simulando o seu desempenho em contexto real.\n",
    "\n",
    "A análise foi conduzida com base nas métricas previamente definidas, com especial ênfase no **Recall** e na **Precisão** para a classe \"_Reprovou_\", dada a relevância estratégica de identificar corretamente os alunos em risco de insucesso. Adicionalmente, foi considerado o **F1-score** global como medida de equilíbrio entre estas duas métricas. Para além dos indicadores quantitativos, foram também analisadas as **Matrizes de Confusão**, que permitem visualizar de forma clara os acertos e erros de cada modelo, incluindo a capacidade de deteção de alunos em risco (_Verdadeiros Positivos_), os casos não detetados (_Falsos Negativos_) e os falsos alarmes (_Falsos Positivos_).\n",
    "\n",
    "Foram igualmente geradas as **Curvas ROC** (Receiver Operating Characteristic) para cada modelo, de modo a comparar a sua capacidade discriminativa, ou seja, a competência em distinguir entre alunos aprovados e reprovados em diferentes limiares de decisão. A **Área sob a Curva ROC (AUC)** foi usada como medida complementar de desempenho.\n",
    "\n",
    "#### _Resultados e Relevância Prática_\n",
    "Os resultados obtidos no conjunto de teste permitiram aferir a fiabilidade esperada de cada modelo em condições reais. Um dos modelos, por exemplo, o **AdaBoost**, destacou-se particularmente, conseguindo identificar aproximadamente **X% dos alunos que efetivamente reprovaram**. Este resultado sugere que um sistema de apoio baseado neste modelo teria o potencial de sinalizar, atempadamente, uma parte significativa dos alunos em risco, possibilitando intervenções pedagógicas ou administrativas antes da ocorrência do insucesso.\n",
    "\n",
    "\n",
    "#### _Considerações sobre os Erros e Implicações para a Intervenção_\n",
    "É importante sublinhar que, no contexto educativo, os erros do modelo não têm todos o mesmo peso. **Falsos Negativos**, isto é, alunos que não são identificados como estando em risco mas que acabam por reprovar, representam uma falha crítica do sistema, pois impossibilitam a antecipação de medidas de apoio. Em contraste, **Falsos Positivos** (alunos sinalizados como em risco que afinal são bem-sucedidos) têm um impacto menos severo, podendo apenas originar intervenções não estritamente necessárias, mas potencialmente benéficas.\n",
    "\n",
    "Assim, a prioridade reside em maximizar a deteção de casos reais de risco, mesmo ao custo de um número razoável de falsos alarmes. A escolha do modelo final deve, por conseguinte, refletir este equilíbrio, privilegiando a **sensibilidade (Recall)** sem comprometer excessivamente a **precisão**, de modo a alinhar-se com os objetivos pedagógicos da instituição.\n",
    "\n",
    "---\n",
    "### 6.6. **Otimização de Hiperparâmetros (GridSearchCV) para os Melhores Modelos**"
   ]
  },
  {
   "cell_type": "code",
   "execution_count": 80,
   "id": "77ce8f69",
   "metadata": {},
   "outputs": [
    {
     "name": "stdout",
     "output_type": "stream",
     "text": [
      "\n",
      "--- Otimização de Hiperparâmetros para Random Forest ---\n",
      "Fitting 5 folds for each of 48 candidates, totalling 240 fits\n",
      "Melhores Parâmetros para Random Forest: {'class_weight': None, 'max_depth': 10, 'min_samples_leaf': 1, 'min_samples_split': 5, 'n_estimators': 100}\n",
      "Melhor F1 (CV) com GridSearchCV: 0.8162\n",
      "\n",
      "--- Avaliação do Modelo: Random Forest (Otimizado) ---\n",
      "  Acurácia:  0.7000\n",
      "  Precisão:  0.7143\n",
      "  Recall:    0.9259\n",
      "  F1-Score:  0.8065\n",
      "  AUC ROC:   0.6353\n",
      "\n",
      "  Matriz de Confusão:\n"
     ]
    },
    {
     "data": {
      "image/png": "[encoded data removed]",
      "text/plain": [
       "<Figure size 640x480 with 2 Axes>"
      ]
     },
     "metadata": {},
     "output_type": "display_data"
    },
    {
     "name": "stdout",
     "output_type": "stream",
     "text": [
      "\n",
      "  Relatório de Classificação:\n",
      "              precision    recall  f1-score   support\n",
      "\n",
      "           0       0.60      0.23      0.33        13\n",
      "           1       0.71      0.93      0.81        27\n",
      "\n",
      "    accuracy                           0.70        40\n",
      "   macro avg       0.66      0.58      0.57        40\n",
      "weighted avg       0.68      0.70      0.65        40\n",
      "\n",
      "\n",
      "--- Otimização de Hiperparâmetros para SVM ---\n",
      "Fitting 5 folds for each of 48 candidates, totalling 240 fits\n",
      "Melhores Parâmetros para SVM: {'C': 0.1, 'class_weight': None, 'gamma': 'scale', 'kernel': 'linear'}\n",
      "Melhor F1 (CV) com GridSearchCV: 0.8183\n",
      "\n",
      "--- Avaliação do Modelo: SVM (Otimizado) ---\n",
      "  Acurácia:  0.7000\n",
      "  Precisão:  0.6923\n",
      "  Recall:    1.0000\n",
      "  F1-Score:  0.8182\n",
      "  AUC ROC:   0.6410\n",
      "\n",
      "  Matriz de Confusão:\n"
     ]
    },
    {
     "data": {
      "image/png": "[encoded data removed]",
      "text/plain": [
       "<Figure size 640x480 with 2 Axes>"
      ]
     },
     "metadata": {},
     "output_type": "display_data"
    },
    {
     "name": "stdout",
     "output_type": "stream",
     "text": [
      "\n",
      "  Relatório de Classificação:\n",
      "              precision    recall  f1-score   support\n",
      "\n",
      "           0       1.00      0.08      0.14        13\n",
      "           1       0.69      1.00      0.82        27\n",
      "\n",
      "    accuracy                           0.70        40\n",
      "   macro avg       0.85      0.54      0.48        40\n",
      "weighted avg       0.79      0.70      0.60        40\n",
      "\n"
     ]
    }
   ],
   "source": [
    "from sklearn.model_selection import GridSearchCV\n",
    "if \"Random Forest\" in best_model_names:\n",
    "    print(\"\\n--- Otimização de Hiperparâmetros para Random Forest ---\")\n",
    "    rf_params = {\n",
    "        'n_estimators': [100, 200],\n",
    "        'max_depth': [None, 10, 20],\n",
    "        'min_samples_split': [2, 5],\n",
    "        'min_samples_leaf': [1, 2],\n",
    "        'class_weight': [None, 'balanced'] # Bom para desequilíbrio\n",
    "    }\n",
    "    rf_model = RandomForestClassifier(random_state=RAND_STATE)\n",
    "    \n",
    "    # Se X_train já está totalmente pré-processado, podemos passar diretamente\n",
    "    # Se precisássemos aplicar o pré-processamento dentro do GridSearch (melhor prática se houver fit no preprocessor)\n",
    "    # rf_pipeline = Pipeline(steps=[('preprocessor', teu_preprocessor_configurado),\n",
    "    #                               ('classifier', rf_model)])\n",
    "    # Mas vamos assumir que X_train e X_test já são os DataFrames processados.\n",
    "    \n",
    "    grid_search_rf = GridSearchCV(estimator=rf_model, param_grid=rf_params, \n",
    "                                  cv=cv_strategy, scoring=scoring_metric, n_jobs=-1, verbose=1)\n",
    "    grid_search_rf.fit(X_train, y_train)\n",
    "    \n",
    "    print(f\"Melhores Parâmetros para Random Forest: {grid_search_rf.best_params_}\")\n",
    "    print(f\"Melhor {scoring_metric.upper()} (CV) com GridSearchCV: {grid_search_rf.best_score_:.4f}\")\n",
    "    \n",
    "    # Avaliar o melhor modelo do GridSearchCV no conjunto de teste\n",
    "    best_rf_model = grid_search_rf.best_estimator_\n",
    "    y_pred_test_rf_tuned = best_rf_model.predict(X_test)\n",
    "    y_proba_test_rf_tuned = best_rf_model.predict_proba(X_test)\n",
    "    \n",
    "    rf_tuned_metrics, _ = evaluate_classification_model(\"Random Forest (Otimizado)\", \n",
    "                                                        y_test, y_pred_test_rf_tuned, \n",
    "                                                        y_proba_test_rf_tuned)\n",
    "    test_set_metrics[\"Random Forest (Otimizado)\"] = rf_tuned_metrics\n",
    "    trained_models[\"Random Forest (Otimizado)\"] = best_rf_model\n",
    "\n",
    "# (Adicionar GridSearchCV para outros modelos promissores como SVM, Gradient Boosting, XGBoost)\n",
    "# Exemplo para SVM\n",
    "if \"SVM\" in best_model_names:\n",
    "    print(\"\\n--- Otimização de Hiperparâmetros para SVM ---\")\n",
    "    svm_params = {\n",
    "        'C': [0.1, 1, 10],\n",
    "        'gamma': ['scale', 'auto', 0.1, 1],\n",
    "        'kernel': ['rbf', 'linear'],\n",
    "        'class_weight': [None, 'balanced']\n",
    "    }\n",
    "    svm_model = SVC(probability=True, random_state=RAND_STATE)\n",
    "    grid_search_svm = GridSearchCV(estimator=svm_model, param_grid=svm_params,\n",
    "                                   cv=cv_strategy, scoring=scoring_metric, n_jobs=-1, verbose=1)\n",
    "    grid_search_svm.fit(X_train, y_train)\n",
    "\n",
    "    print(f\"Melhores Parâmetros para SVM: {grid_search_svm.best_params_}\")\n",
    "    print(f\"Melhor {scoring_metric.upper()} (CV) com GridSearchCV: {grid_search_svm.best_score_:.4f}\")\n",
    "\n",
    "    best_svm_model = grid_search_svm.best_estimator_\n",
    "    y_pred_test_svm_tuned = best_svm_model.predict(X_test)\n",
    "    y_proba_test_svm_tuned = best_svm_model.predict_proba(X_test)\n",
    "\n",
    "    svm_tuned_metrics, _ = evaluate_classification_model(\"SVM (Otimizado)\",\n",
    "                                                         y_test, y_pred_test_svm_tuned,\n",
    "                                                         y_proba_test_svm_tuned)\n",
    "    test_set_metrics[\"SVM (Otimizado)\"] = svm_tuned_metrics\n",
    "    trained_models[\"SVM (Otimizado)\"] = best_svm_model\n"
   ]
  },
  {
   "cell_type": "markdown",
   "id": "4410ac06",
   "metadata": {},
   "source": [
    "Mesmo um bom algoritmo pode ter o seu desempenho melhorado através de um processo de otimização dos seus 'hiperparâmetros' (configurações internas que controlam como o modelo aprende). Foi utilizada uma técnica chamada _Grid Search_ (Busca em Grade) para testar automaticamente várias combinações destas configurações para os modelos mais promissores e encontrar aquelas que maximizam a métrica de interesse (F1-score) na validação cruzada. O principal objetivo deste processo é que o modelo \"otimizado\" tenha uma performance ainda melhor e mais robusta ao ser aplicado a novos dados. A versão do modelo resultante do ajuste fino é, assim, potencialmente mais robusta, eficaz e confiável para aplicação futura no contexto real de previsão do sucesso académico.\n",
    "\n",
    "---\n",
    "### 6.7. **Comparação Final dos Modelos e Interpretação**"
   ]
  },
  {
   "cell_type": "code",
   "execution_count": 92,
   "id": "d799fa45",
   "metadata": {},
   "outputs": [
    {
     "name": "stdout",
     "output_type": "stream",
     "text": [
      "\n",
      "--- Comparação Final das Métricas no Conjunto de Teste ---\n",
      "                           accuracy  precision    recall        f1   roc_auc\n",
      "AdaBoost                      0.725   0.722222  0.962963  0.825397  0.669516\n",
      "SVM                           0.700   0.692308  1.000000  0.818182  0.592593\n",
      "SVM (Otimizado)               0.700   0.692308  1.000000  0.818182  0.641026\n",
      "Random Forest                 0.700   0.702703  0.962963  0.812500  0.544160\n",
      "Random Forest (Otimizado)     0.700   0.714286  0.925926  0.806452  0.635328\n",
      "\n",
      "--- Plotando Curvas ROC Individuais por Modelo (Lado a Lado) com Tabela de Métricas ---\n"
     ]
    },
    {
     "data": {
      "image/png": "[encoded data removed]",
      "text/plain": [
       "<Figure size 1500x800 with 6 Axes>"
      ]
     },
     "metadata": {},
     "output_type": "display_data"
    }
   ],
   "source": [
    "import matplotlib.pyplot as plt\n",
    "import pandas as pd\n",
    "import numpy as np\n",
    "from sklearn.metrics import roc_curve, auc\n",
    "import math\n",
    "\n",
    "# Supondo que as variáveis abaixo já foram definidas:\n",
    "# - test_set_metrics: Dicionário com as métricas de teste para cada modelo\n",
    "# - scoring_metric: A métrica pela qual você quer ordenar (ex: 'roc_auc', 'f1_score')\n",
    "# - trained_models: Dicionário com os objetos dos modelos treinados\n",
    "# - X_test, y_test: Seus dados de teste\n",
    "\n",
    "# --- SEU CÓDIGO ORIGINAL (para imprimir a tabela de métricas) ---\n",
    "\n",
    "print(\"\\n--- Comparação Final das Métricas no Conjunto de Teste ---\")\n",
    "# metrics_df é criado aqui a partir de test_set_metrics\n",
    "metrics_df = pd.DataFrame(test_set_metrics).T.sort_values(by=scoring_metric, ascending=False)\n",
    "print(metrics_df)\n",
    "\n",
    "# --- FIM DO SEU CÓDIGO ORIGINAL (que imprimia a tabela) ---\n",
    "\n",
    "\n",
    "# --- CÓDIGO MODIFICADO (para plotar Curvas ROC em grade COM TABELA) ---\n",
    "\n",
    "print(\"\\n--- Plotando Curvas ROC Individuais por Modelo (Lado a Lado) com Tabela de Métricas ---\")\n",
    "\n",
    "# Filtra os modelos que suportam predict_proba\n",
    "models_with_proba = {name: model for name, model in trained_models.items() if hasattr(model, \"predict_proba\")}\n",
    "\n",
    "if not models_with_proba:\n",
    "    print(\"Nenhum modelo encontrado que suporte predict_proba para plotar Curvas ROC ou a tabela.\")\n",
    "else:\n",
    "    n_models = len(models_with_proba)\n",
    "\n",
    "    # Define o layout da grade. Adicionamos um espaço para a tabela.\n",
    "    # Se tivermos N modelos, precisamos N+1 subplots no total (N para ROC + 1 para Tabela)\n",
    "    total_subplots = n_models + 1\n",
    "\n",
    "    # Define o número de colunas. Ajuste este valor se necessário.\n",
    "    n_cols = 3 # Ex: 3 colunas por padrão\n",
    "    # Calcula o número de linhas necessário para acomodar todos os subplots\n",
    "    n_rows = math.ceil(total_subplots / n_cols)\n",
    "\n",
    "    # Cria a figura e a grade de subplots\n",
    "    # O tamanho da figura é ajustado para caber todos os subplots e a tabela\n",
    "    fig, axes = plt.subplots(n_rows, n_cols, figsize=(n_cols * 5, n_rows * 4))\n",
    "    axes = axes.flat # Transforma o array de eixos em 1D para facilitar a iteração\n",
    "\n",
    "    # --- Plotar as Curvas ROC nos primeiros N subplots ---\n",
    "    for i, (name, model) in enumerate(models_with_proba.items()):\n",
    "        # O plot ROC vai para os primeiros n_models eixos\n",
    "        ax = axes[i]\n",
    "\n",
    "        # Pega a probabilidade da classe positiva\n",
    "        y_proba_test = model.predict_proba(X_test)[:, 1]\n",
    "\n",
    "        # Calcula a Curva ROC\n",
    "        fpr, tpr, _ = roc_curve(y_test, y_proba_test)\n",
    "        roc_auc = auc(fpr, tpr)\n",
    "\n",
    "        # Plota a Curva ROC neste eixo (ax)\n",
    "        ax.plot(fpr, tpr, color='darkorange', lw=2, label=f'ROC (AUC = {roc_auc:.2f})')\n",
    "\n",
    "        # Adiciona a linha de base aleatória\n",
    "        ax.plot([0, 1], [0, 1], 'k--', lw=2, label='Aleatório (AUC = 0.50)')\n",
    "\n",
    "        # Configurações deste subplot ROC\n",
    "        ax.set_xlim([0.0, 1.0])\n",
    "        ax.set_ylim([0.0, 1.05])\n",
    "        ax.set_xlabel('FPR', fontsize=10) # Rótulos menores para caber melhor\n",
    "        ax.set_ylabel('TPR', fontsize=10)\n",
    "        ax.set_title(f'{name}', fontsize=12) # Título do modelo\n",
    "        ax.legend(loc='lower right', prop={'size': 8})\n",
    "        ax.grid(True)\n",
    "\n",
    "    # --- Adicionar a Tabela de Métricas no último subplot ---\n",
    "    # O último eixo na grade é axes[total_subplots - 1]\n",
    "    table_ax = axes[total_subplots - 1]\n",
    "\n",
    "    # Desativa o eixo para que apenas a tabela apareça\n",
    "    table_ax.axis('off')\n",
    "\n",
    "    # Prepara os dados da tabela\n",
    "    # Formata os números para 3 casas decimais\n",
    "    table_data = metrics_df.values.round(3)\n",
    "    # Converte para string para que o f'{value:.3f}' funcione\n",
    "    table_data_str = np.array([[f'{value:.3f}' for value in row] for row in table_data])\n",
    "\n",
    "    # Obtém os nomes das colunas e dos modelos\n",
    "    col_labels = metrics_df.columns.tolist()\n",
    "    row_labels = metrics_df.index.tolist()\n",
    "\n",
    "    # Cria a tabela dentro do eixo designado\n",
    "    table = table_ax.table(cellText=table_data_str,\n",
    "                           rowLabels=row_labels,\n",
    "                           colLabels=col_labels,\n",
    "                           loc='center', # Posiciona a tabela no centro do subplot (que é o canto inferior direito da figura)\n",
    "                           bbox=[0, 0, 1, 1]) # Usa todo o espaço do subplot\n",
    "\n",
    "    # Configurações visuais da tabela (opcional)\n",
    "    table.auto_set_font_size(False)\n",
    "    table.set_fontsize(9) # Ajusta o tamanho da fonte da tabela\n",
    "    table.scale(1.2, 1.2) # Ajusta o tamanho da tabela (escala horizontal, vertical)\n",
    "\n",
    "    # --- Esconder subplots não utilizados (se houver espaço extra entre o último ROC e a tabela) ---\n",
    "    for j in range(n_models, total_subplots -1): # Do primeiro subplot vazio até o penúltimo\n",
    "         axes[j].axis('off')\n",
    "\n",
    "\n",
    "    # --- Ajustar layout e exibir a figura ---\n",
    "    fig.suptitle('Curvas ROC dos Modelos e Tabela de Métricas', fontsize=16, y=1.02) # Título geral\n",
    "    plt.tight_layout(rect=[0, 0.03, 1, 0.98]) # Ajusta o layout, deixando espaço para o suptitle\n",
    "    plt.show()"
   ]
  },
  {
   "cell_type": "markdown",
   "id": "860cd985",
   "metadata": {},
   "source": [
    "# 7. **Conclusão**\n",
    "\n",
    "Este trabalho de projeto visou o desenvolvimento de um **Sistema de Intervenção Estudantil** baseado em **_Machine Learning_**, com o objetivo primordial de **prever a situação final de aprovação ou reprovação** de alunos do ensino secundário, a partir de dados contextuais e comportamentais. A relevância deste sistema reside na sua capacidade de **antecipar cenários de insucesso académico**, permitindo a implementação proativa de medidas de apoio e intervenção pedagógica direcionadas.\n",
    "\n",
    "### 7.1. **Resultados Chave e Interpretação Prática**\n",
    "\n",
    "Os **resultados** no conjunto de teste demonstraram a viabilidade da abordagem preditiva. A comparação das métricas (Acurácia, **Precision**, **Recall**, **F1-score** e **AUC ROC**) e a análise das matrizes de confusão permitiram selecionar o modelo com o melhor desempenho para o objetivo de identificar alunos em risco. Constatou-se que um dos modelos treinados ([mencione aqui qual foi o modelo final escolhido, ex: \"O modelo Random Forest otimizado\", \"O modelo AdaBoost\", etc.]) apresentou a melhor combinação de **Recall** e **Precision** para a classe 'Reprovou' (`passed_mapped=0`), superando significativamente a *baseline* que simplesmente prevê a classe maioritária.\n",
    "\n",
    "A interpretação dos resultados sublinha que, no contexto de um sistema de intervenção, a capacidade de **minimizar Falsos Negativos** (alunos em risco que não são identificados) é particularmente crítica. Embora **Falsos Positivos** (alunos identificados como em risco mas que acabam por passar) possam ocorrer, representam um custo menor face ao benefício de sinalizar atempadamente alunos que necessitam de suporte. A performance do modelo selecionado demonstra um potencial razoável para a deteção destes casos, alinhando-se com a necessidade de uma abordagem preventiva.\n",
    "\n",
    "### 7.2. **Limitações do Estudo**\n",
    "\n",
    "Apesar dos resultados promissores, é importante reconhecer as **limitações** do presente trabalho, como o tamanho relativamente limitado do _dataset_ e a dependência das features disponíveis. A análise exploratória sugeriu a complexidade das causas de insucesso, e o modelo, embora eficaz, não capta a totalidade das nuances individuais.\n",
    "\n",
    "### 7.3. **Sugestões para Trabalho Futuro**\n",
    "\n",
    "**Sugestões de Próximos Passos e Potenciais Melhorias**\n",
    "Este sistema oferece um ponto de partida sólido. Possíveis evoluções e melhorias incluem:\n",
    "\n",
    "- **Testar Outros Modelos/Algoritmos**: Integrar mais algoritmos de _Machine Learning_ (redes neuronais, ensembles mais avançados) nas secções de Avaliação ou guardar novos modelos otimizados.\n",
    "\n",
    "- **Análise de Erros Detalhada**: Incluir visualizações focadas em analisar os casos específicos (amostras) que resultaram em Falsos Positivos ou Falsos Negativos, para identificar padrões nos erros do modelo principal.\n",
    "\n",
    "- **Técnicas de Interpretabilidade Mais Avançadas*: Explorar métodos como `SHAP` (SHapley Additive exPlanations) ou `LIME` (Local Interpretable Model-agnostic Explanations) para fornecer insights mais profundos sobre as previsões, tanto a nível global (para o modelo) como individual (para uma previsão específica).\n",
    "\n",
    "- **Feedback do Utilizador**: Capturar feedback sobre a utilidade da previsão ou sobre alunos em risco (identificados como \"Não Passar\") para validar/melhorar o modelo ao longo do tempo.\n",
    "\n",
    "### 7.4. **Considerações Finais**\n",
    "\n",
    "Em **conclusão**, este projeto estabeleceu uma base sólida para o desenvolvimento de um sistema de intervenção estudantil baseado em Machine Learning. Os resultados obtidos demonstram que é possível, a partir de dados disponíveis, identificar alunos com maior probabilidade de insucesso, oferecendo uma ferramenta valiosa para a **tomada de decisão informada** e a **promoção do sucesso educativo** em contextos escolares. A implementação e validação contínuas deste sistema, aliadas a melhorias futuras, têm o potencial de impactar positivamente o percurso académico dos estudantes.\n",
    "\n",
    "---\n",
    "#### 8. Guardar o Melhor Modelo e outros para as funcionalidades para a aplicação \n"
   ]
  },
  {
   "cell_type": "code",
   "execution_count": 94,
   "id": "1158cd5d",
   "metadata": {},
   "outputs": [
    {
     "name": "stdout",
     "output_type": "stream",
     "text": [
      "\n",
      "Melhor modelo (AdaBoost) guardado em: best_model.joblib\n",
      "Modelo 'SVM' guardado em: artefacts/SVM.joblib\n",
      "Modelo 'AdaBoost' guardado em: artefacts/AdaBoost.joblib\n",
      "Modelo 'Random Forest' guardado em: artefacts/Random_Forest.joblib\n",
      "Modelo 'Random Forest (Otimizado)' guardado em: artefacts/Random_Forest_(Otimizado).joblib\n",
      "Modelo 'SVM (Otimizado)' guardado em: artefacts/SVM_(Otimizado).joblib\n"
     ]
    }
   ],
   "source": [
    "import joblib\n",
    "output_dir=\"artefacts\"\n",
    "best_final_model_name = metrics_df.index[0] # Assume que a primeira linha é o melhor\n",
    "best_final_model = trained_models[best_final_model_name]\n",
    "\n",
    "output_model_path = \"best_model.joblib\"\n",
    "joblib.dump(best_final_model, output_model_path)\n",
    "print(f\"\\nMelhor modelo ({best_final_model_name}) guardado em: {output_model_path}\")\n",
    "for name, model in trained_models.items():\n",
    "    # Cria um nome de arquivo baseado no nome do modelo, substituindo espaços por underscores\n",
    "    # e adicionando a extensão .joblib\n",
    "    safe_name = name.replace(\" \", \"_\")\n",
    "    output_model_path = os.path.join(output_dir, f\"{safe_name}.joblib\")\n",
    "\n",
    "    try:\n",
    "        # Salva o modelo usando joblib\n",
    "        joblib.dump(model, output_model_path)\n",
    "        print(f\"Modelo '{name}' guardado em: {output_model_path}\")\n",
    "    except Exception as e:\n",
    "        print(f\"Erro ao guardar o modelo '{name}': {e}\")\n"
   ]
  },
  {
   "cell_type": "code",
   "execution_count": null,
   "id": "43546a1d",
   "metadata": {},
   "outputs": [
    {
     "name": "stdout",
     "output_type": "stream",
     "text": [
      "Pré-processador guardado com sucesso em artefacts/preprocessor.joblib\n",
      "Nomes das features processadas guardados com sucesso em artefacts/processed_feature_names.joblib\n",
      "Nomes das features originais guardados com sucesso em artefacts/original_input_columns.joblib\n"
     ]
    }
   ],
   "source": [
    "# Crie a pasta 'artefacts' se não existir\n",
    "artefacts_dir = 'artefacts'\n",
    "os.makedirs(artefacts_dir, exist_ok=True)\n",
    "# Opcional: Crie a pasta 'data/processed' se ainda não existe no teu script anterior\n",
    "# os.makedirs('data/processed', exist_ok=True)\n",
    "\n",
    "\n",
    "# 1. Salvar o pré-processador treinado\n",
    "# Assume que a variável 'preprocessor' foi definida e treinada anteriormente no script\n",
    "try:\n",
    "    joblib.dump(preprocessor, os.path.join(artefacts_dir, 'preprocessor.joblib'))\n",
    "    print(f\"Pré-processador guardado com sucesso em {os.path.join(artefacts_dir, 'preprocessor.joblib')}\")\n",
    "except NameError:\n",
    "    print(\"Erro: A variável 'preprocessor' não está definida. Executa as etapas de pré-processamento primeiro.\")\n",
    "except Exception as e:\n",
    "    print(f\"Erro ao guardar o pré-processador: {e}\")\n",
    "\n",
    "\n",
    "# 2. Salvar a lista de nomes das features *depois* do pré-processamento\n",
    "# Assume que a variável 'final_feature_names' foi definida anteriormente no script\n",
    "try:\n",
    "    joblib.dump(final_feature_names, os.path.join(artefacts_dir, 'processed_feature_names.joblib'))\n",
    "    print(f\"Nomes das features processadas guardados com sucesso em {os.path.join(artefacts_dir, 'processed_feature_names.joblib')}\")\n",
    "except NameError:\n",
    "    print(\"Erro: A variável 'final_feature_names' não está definida. Executa as etapas de pré-processamento primeiro.\")\n",
    "except Exception as e:\n",
    "    print(f\"Erro ao guardar nomes das features processadas: {e}\")\n",
    "\n",
    "\n",
    "# 3. Salvar a lista de nomes das features *originais* de input\n",
    "# Assume que a variável 'X' (o DataFrame com as features originais) foi definida anteriormente no script\n",
    "try:\n",
    "    original_input_columns = X.columns.tolist()\n",
    "    joblib.dump(original_input_columns, os.path.join(artefacts_dir, 'original_input_columns.joblib'))\n",
    "    print(f\"Nomes das features originais guardados com sucesso em {os.path.join(artefacts_dir, 'original_input_columns.joblib')}\")\n",
    "except NameError:\n",
    "    print(\"Erro: A variável 'X' não está definida. Certifica-te que X foi criado a partir do dataframe original.\")\n",
    "except Exception as e:\n",
    "    print(f\"Erro ao guardar nomes das features originais: {e}\")"
   ]
  }
 ],
 "metadata": {
  "kernelspec": {
   "display_name": "DS_PROJECT",
   "language": "python",
   "name": "python3"
  },
  "language_info": {
   "codemirror_mode": {
    "name": "ipython",
    "version": 3
   },
   "file_extension": ".py",
   "mimetype": "text/x-python",
   "name": "python",
   "nbconvert_exporter": "python",
   "pygments_lexer": "ipython3",
   "version": "3.12.3"
  }
 },
 "nbformat": 4,
 "nbformat_minor": 5
}
